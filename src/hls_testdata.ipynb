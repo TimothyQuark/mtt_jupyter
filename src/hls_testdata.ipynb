{
 "cells": [
  {
   "cell_type": "code",
   "execution_count": 1,
   "metadata": {},
   "outputs": [],
   "source": [
    "import torch\n",
    "import torch.nn as nn\n",
    "import numpy as np"
   ]
  },
  {
   "cell_type": "code",
   "execution_count": null,
   "metadata": {},
   "outputs": [],
   "source": [
    "\"\"\"\n",
    "TODO:\n",
    "- MSEloss for all layer tests\n",
    "- Proper data generation method (multiple datasets needed to test everything)\n",
    "- Test for ints and big float as well\n",
    "\n",
    "\"\"\""
   ]
  },
  {
   "cell_type": "code",
   "execution_count": 2,
   "metadata": {},
   "outputs": [],
   "source": [
    "# Taken from I2DL exercises, need to cite!\n",
    "\n",
    "# def eval_numerical_gradient_array(f, x, df, h=1e-5):\n",
    "#     \"\"\"\n",
    "#     Evaluate a numeric gradient for a function that accepts a numpy\n",
    "#     array and returns a numpy array.\n",
    "#     \"\"\"\n",
    "#     grad = np.zeros_like(x)\n",
    "#     it = np.nditer(x, flags=['multi_index'], op_flags=['readwrite'])\n",
    "#     while not it.finished:\n",
    "#         ix = it.multi_index\n",
    "\n",
    "#         oldval = x[ix]\n",
    "#         x[ix] = oldval + h\n",
    "#         pos = f(x).copy()\n",
    "#         x[ix] = oldval - h\n",
    "#         neg = f(x).copy()\n",
    "#         x[ix] = oldval\n",
    "\n",
    "#         grad[ix] = np.sum((pos - neg) * df) / (2 * h)\n",
    "#         it.iternext()\n",
    "#     return grad"
   ]
  },
  {
   "cell_type": "code",
   "execution_count": 51,
   "metadata": {},
   "outputs": [
    {
     "name": "stdout",
     "output_type": "stream",
     "text": [
      "x gradients are approximately the same: True\n"
     ]
    }
   ],
   "source": [
    "# ReLU testdata generation\n",
    "\n",
    "# First val is batch size, rest are dimensions of data.\n",
    "# Numbers are absed on input shape of MTT ReLU layers\n",
    "# shape = (256, 128, 32, 32)\n",
    "shape = (4, 3, 2, 2)\n",
    "\n",
    "x = torch.randn(*shape, dtype=torch.float, requires_grad=True)\n",
    "relu = nn.ReLU()\n",
    "out = relu(x)  # Forward pass\n",
    "\n",
    "target = torch.randn(*shape)  # Imaginary target values, defines shape of dout\n",
    "loss_fn = nn.MSELoss()\n",
    "loss = loss_fn(out, target)  # Compute loss\n",
    "loss.backward()  # Backward pass\n",
    "\n",
    "# Validation\n",
    "dout = 2 * (out - target) / np.prod(shape) # derivative of MSELoss\n",
    "cache = x.clone().detach() # Must clone x so it isn't overwritten\n",
    "cache[cache <= 0] = 0\n",
    "dx = cache\n",
    "dx[dx > 0] = 1\n",
    "dx_truth = dout * dx\n",
    "print(f\"x gradients are approximately the same: {torch.allclose(dx_truth, x.grad)}\")\n",
    "\n",
    "# File name: shape_variable_testNum\n",
    "with open(f'relu_{shape[0]}_{shape[1]}_{shape[2]}_{shape[3]}_x_t1.npy', 'wb') as f:\n",
    "    np.save(f, x.detach().numpy())\n",
    "with open(f'relu_{shape[0]}_{shape[1]}_{shape[2]}_{shape[3]}_dx_t1.npy', 'wb') as f:\n",
    "    np.save(f, x.grad.detach().numpy())\n",
    "with open(f'relu_{shape[0]}_{shape[1]}_{shape[2]}_{shape[3]}_out_t1.npy', 'wb') as f:\n",
    "    np.save(f, out.detach().numpy())\n",
    "with open(f'relu_{shape[0]}_{shape[1]}_{shape[2]}_{shape[3]}_dout_t1.npy', 'wb') as f:\n",
    "    np.save(f, dout.detach().numpy())\n"
   ]
  },
  {
   "cell_type": "code",
   "execution_count": 52,
   "metadata": {},
   "outputs": [
    {
     "name": "stdout",
     "output_type": "stream",
     "text": [
      "tensor([[[[ 0.0000,  0.0000],\n",
      "          [-0.0088,  0.0525]],\n",
      "\n",
      "         [[ 0.0000,  0.0000],\n",
      "          [ 0.0750,  0.0000]],\n",
      "\n",
      "         [[ 0.0094,  0.0726],\n",
      "          [ 0.1179,  0.0531]]],\n",
      "\n",
      "\n",
      "        [[[ 0.0516,  0.0000],\n",
      "          [ 0.0000,  0.0424]],\n",
      "\n",
      "         [[ 0.1115,  0.0000],\n",
      "          [ 0.1554,  0.0000]],\n",
      "\n",
      "         [[ 0.0000,  0.0000],\n",
      "          [ 0.0397,  0.1478]]],\n",
      "\n",
      "\n",
      "        [[[ 0.0000, -0.0853],\n",
      "          [ 0.0153,  0.0000]],\n",
      "\n",
      "         [[ 0.0000,  0.0000],\n",
      "          [ 0.0388,  0.0000]],\n",
      "\n",
      "         [[ 0.0000,  0.0000],\n",
      "          [ 0.0000,  0.1355]]],\n",
      "\n",
      "\n",
      "        [[[ 0.0000,  0.0079],\n",
      "          [-0.0631,  0.0778]],\n",
      "\n",
      "         [[ 0.0000,  0.0000],\n",
      "          [ 0.0000,  0.0038]],\n",
      "\n",
      "         [[ 0.0000,  0.0000],\n",
      "          [ 0.0000,  0.0000]]]])\n"
     ]
    }
   ],
   "source": [
    "# print(x.grad)\n",
    "# print(cache)\n",
    "# print(dout)"
   ]
  },
  {
   "cell_type": "code",
   "execution_count": 52,
   "metadata": {},
   "outputs": [
    {
     "name": "stdout",
     "output_type": "stream",
     "text": [
      "x gradients are approximately the same: True\n",
      "w gradients are approximately the same: True\n",
      "b gradients are approximately the same: True\n"
     ]
    }
   ],
   "source": [
    "# Affine/Linear layer testdata generation (using arange to create specific weights)\n",
    "\n",
    "in_shape = (3, 2, 2) # First val is batch size, rest are input dimensions\n",
    "layer_shape = (np.prod(in_shape[1:]), 14) # Shape of linear layer, in_features and out_features\n",
    "\n",
    "x = torch.arange(np.prod(in_shape), dtype=torch.float, requires_grad=True)\n",
    "x = x.reshape((in_shape[0], np.prod(in_shape[1:]))) # Reshape to shape [batch, prod(input_shape)]\n",
    "x.retain_grad() # Needed to calculate gradients for tensor views, i.e. reshape\n",
    "\n",
    "linear = nn.Linear(*layer_shape)\n",
    "w = reversed(torch.arange(np.prod(linear.weight.shape), dtype=torch.float))\n",
    "w = w.reshape(linear.weight.shape)\n",
    "linear.weight = torch.nn.Parameter(w)\n",
    "b = torch.full(linear.bias.shape, 2, dtype=torch.float)\n",
    "linear.bias = torch.nn.Parameter(b)\n",
    "out = linear(x) # Forward pass\n",
    "\n",
    "target = torch.randn(in_shape[0], layer_shape[1])  # Imaginary target values, defines shape of dout\n",
    "loss_fn = nn.MSELoss()\n",
    "loss = loss_fn(out, target)  # Compute loss\n",
    "loss.backward()\n",
    "\n",
    "# Validation\n",
    "dout = 2 * (out - target) / np.prod((in_shape[0], layer_shape[1])) # derivative of MSELoss\n",
    "dx_truth = dout @ w\n",
    "dw_truth = dout.T @ x\n",
    "db_truth = torch.sum(dout.T, axis=1)\n",
    "print(f\"x gradients are approximately the same: {torch.allclose(dx_truth, x.grad)}\")\n",
    "print(f\"w gradients are approximately the same: {torch.allclose(dw_truth, linear.weight.grad)}\")\n",
    "print(f\"b gradients are approximately the same: {torch.allclose(db_truth, linear.bias.grad)}\")\n"
   ]
  },
  {
   "cell_type": "code",
   "execution_count": 27,
   "metadata": {},
   "outputs": [
    {
     "name": "stdout",
     "output_type": "stream",
     "text": [
      "x gradients are approximately the same: True\n",
      "w gradients are approximately the same: True\n",
      "b gradients are approximately the same: True\n",
      "out values are approximately the same: True\n"
     ]
    }
   ],
   "source": [
    "# Affine/Linear layer testdata generation (random tensors)\n",
    "# Remember to make dimensions divisible by block shape (usually 2^n)\n",
    "\n",
    "in_shape = (8, 3, 2, 2) # First val is batch size, rest are input dimensions\n",
    "layer_shape = (np.prod(in_shape[1:]), 4) # Shape of linear layer, in_features and out_features\n",
    "\n",
    "x = torch.randn(*in_shape, requires_grad=True)\n",
    "x = x.reshape((in_shape[0], np.prod(in_shape[1:]))) # Reshape to shape [batch, prod(input_shape)]\n",
    "x.retain_grad() # Needed to calculate gradients for tensor views, i.e. reshape\n",
    "\n",
    "linear = nn.Linear(*layer_shape)\n",
    "out = linear(x) # This output will also be our dout, since loss is just a sum\n",
    "\n",
    "target = torch.randn(in_shape[0], layer_shape[1])  # Imaginary target values, defines shape of dout\n",
    "loss_fn = nn.MSELoss()\n",
    "loss = loss_fn(out, target)  # Compute loss\n",
    "loss.backward()\n",
    "\n",
    "# Validation\n",
    "dout = 2 * (out - target) / np.prod((in_shape[0], layer_shape[1])) # derivative of MSELoss\n",
    "dx_truth = dout @ linear.weight\n",
    "dw_truth = dout.T @ x\n",
    "db_truth = torch.sum(dout, axis=0)\n",
    "out_truth = x @ linear.weight.T + linear.bias\n",
    "print(f\"x gradients are approximately the same: {torch.allclose(dx_truth, x.grad)}\")\n",
    "print(f\"w gradients are approximately the same: {torch.allclose(dw_truth, linear.weight.grad)}\")\n",
    "print(f\"b gradients are approximately the same: {torch.allclose(db_truth, linear.bias.grad)}\")\n",
    "print(f\"out values are approximately the same: {torch.allclose(out_truth, out)}\")\n",
    "\n",
    "it = 1\n",
    "# File name: shape_variable_testNum\n",
    "name = f'in_{in_shape[0]}_{in_shape[1]}_{in_shape[2]}_{in_shape[3]}_out_{layer_shape[1]}'\n",
    "with open(f'linear_{name}_x_t{it}.npy', 'wb') as f:\n",
    "    np.save(f, x.detach().numpy())\n",
    "with open(f'linear_{name}_w_t{it}.npy', 'wb') as f:\n",
    "    np.save(f, linear.weight.detach().numpy())\n",
    "with open(f'linear_{name}_b_t{it}.npy', 'wb') as f:\n",
    "    np.save(f, linear.bias.detach().numpy())\n",
    "with open(f'linear_{name}_out_t{it}.npy', 'wb') as f:\n",
    "    np.save(f, out.detach().numpy())\n",
    "with open(f'linear_{name}_dx_t{it}.npy', 'wb') as f:\n",
    "    np.save(f, x.grad.detach().numpy())\n",
    "with open(f'linear_{name}_dw_t{it}.npy', 'wb') as f:\n",
    "    np.save(f, linear.weight.grad.detach().numpy())\n",
    "with open(f'linear_{name}_db_t{it}.npy', 'wb') as f:\n",
    "    np.save(f, linear.bias.grad.detach().numpy())\n",
    "with open(f'linear_{name}_dout_t{it}.npy', 'wb') as f:\n",
    "    np.save(f, dout.detach().numpy()) # Note this is what we computed manually"
   ]
  },
  {
   "cell_type": "code",
   "execution_count": 40,
   "metadata": {},
   "outputs": [
    {
     "name": "stdout",
     "output_type": "stream",
     "text": [
      "torch.Size([4, 8])\n",
      "tensor([[ 0.0060,  0.0087, -0.1293,  0.1165, -0.0031,  0.0360, -0.1315,  0.0180],\n",
      "        [ 0.1446,  0.0189, -0.0035,  0.0265, -0.1367,  0.0506,  0.0139,  0.0590],\n",
      "        [-0.1067, -0.0135,  0.0700,  0.0213,  0.0282,  0.1001, -0.0951, -0.0397],\n",
      "        [-0.0617, -0.0492,  0.0075,  0.0293, -0.0469, -0.0548,  0.0808, -0.0176]],\n",
      "       grad_fn=<PermuteBackward0>)\n",
      "tensor([[-0.0719, -0.4019,  0.1952, -0.4095,  0.1383, -0.0644, -0.0371, -0.1648,\n",
      "          0.0560, -0.1487, -0.0990,  0.0757],\n",
      "        [-0.5282,  0.2830, -0.3337, -0.2315, -0.0621, -0.1323,  0.1940, -0.5524,\n",
      "          0.0017, -0.0242, -0.2560,  0.0116],\n",
      "        [-0.0467, -0.4511,  0.3410, -0.0869, -0.1210,  0.3099,  0.0410,  0.1691,\n",
      "          0.0357, -0.1220,  0.2101, -0.0284],\n",
      "        [ 0.0727,  0.0104, -0.1876,  0.3582,  0.0361, -0.1230, -0.1675,  0.0945,\n",
      "         -0.1885,  0.1646,  0.0105, -0.0225]])\n",
      "tensor([-0.0786,  0.1733, -0.0354, -0.1126])\n"
     ]
    }
   ],
   "source": [
    "# print(linear.weight.shape)\n",
    "# print(linear.weight.grad.shape)\n",
    "# print(linear.weight.grad.T)\n",
    "# print(linear.weight.shape)\n",
    "# print(linear.bias.shape)\n",
    "\n",
    "# print(linear.weight)\n",
    "# print(linear.weight.T)\n",
    "# print(x)\n",
    "# print(x @ linear.weight.T)\n",
    "# print(out.shape)\n",
    "# print(dout.shape)\n",
    "# print(dout)\n",
    "# print(out_truth)\n",
    "\n",
    "# print(dout)\n",
    "# print(torch.sum(dout, axis=0))\n",
    "# print(torch.sum(dout, axis=0).shape)\n",
    "# print(linear.bias.shape)\n",
    "\n",
    "print(dout.T.shape)\n",
    "print(dout.T)\n",
    "print(linear.weight.grad)\n",
    "print(linear.bias.grad)\n",
    "\n",
    "# test = torch.randn(*in_shape)\n",
    "# print(test.shape)\n",
    "# print(test.T.shape)\n",
    "\n",
    "# print(test[0][0][1][1])\n",
    "# print(test.T[1][1][0][0])\n"
   ]
  }
 ],
 "metadata": {
  "kernelspec": {
   "display_name": "deep",
   "language": "python",
   "name": "python3"
  },
  "language_info": {
   "codemirror_mode": {
    "name": "ipython",
    "version": 3
   },
   "file_extension": ".py",
   "mimetype": "text/x-python",
   "name": "python",
   "nbconvert_exporter": "python",
   "pygments_lexer": "ipython3",
   "version": "3.12.2"
  }
 },
 "nbformat": 4,
 "nbformat_minor": 2
}
