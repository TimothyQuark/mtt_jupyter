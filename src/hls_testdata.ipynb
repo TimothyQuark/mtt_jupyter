{
 "cells": [
  {
   "cell_type": "code",
   "execution_count": 1,
   "metadata": {},
   "outputs": [],
   "source": [
    "import torch\n",
    "import torch.nn as nn\n",
    "import numpy as np"
   ]
  },
  {
   "cell_type": "code",
   "execution_count": 2,
   "metadata": {},
   "outputs": [],
   "source": [
    "# Taken from I2DL exercises, need to cite!\n",
    "\n",
    "# def eval_numerical_gradient_array(f, x, df, h=1e-5):\n",
    "#     \"\"\"\n",
    "#     Evaluate a numeric gradient for a function that accepts a numpy\n",
    "#     array and returns a numpy array.\n",
    "#     \"\"\"\n",
    "#     grad = np.zeros_like(x)\n",
    "#     it = np.nditer(x, flags=['multi_index'], op_flags=['readwrite'])\n",
    "#     while not it.finished:\n",
    "#         ix = it.multi_index\n",
    "\n",
    "#         oldval = x[ix]\n",
    "#         x[ix] = oldval + h\n",
    "#         pos = f(x).copy()\n",
    "#         x[ix] = oldval - h\n",
    "#         neg = f(x).copy()\n",
    "#         x[ix] = oldval\n",
    "\n",
    "#         grad[ix] = np.sum((pos - neg) * df) / (2 * h)\n",
    "#         it.iternext()\n",
    "#     return grad"
   ]
  },
  {
   "cell_type": "code",
   "execution_count": 51,
   "metadata": {},
   "outputs": [
    {
     "name": "stdout",
     "output_type": "stream",
     "text": [
      "x gradients are approximately the same: True\n"
     ]
    }
   ],
   "source": [
    "# ReLU testdata generation\n",
    "\n",
    "# First val is batch size, rest are dimensions of data.\n",
    "# Numbers are absed on input shape of MTT ReLU layers\n",
    "# shape = (256, 128, 32, 32)\n",
    "shape = (4, 3, 2, 2)\n",
    "\n",
    "x = torch.randn(*shape, dtype=torch.float, requires_grad=True)\n",
    "relu = nn.ReLU()\n",
    "out = relu(x)  # Forward pass\n",
    "\n",
    "target = torch.randn(*shape)  # Imaginary target values, defines shape of dout\n",
    "loss_fn = nn.MSELoss()\n",
    "loss = loss_fn(out, target)  # Compute loss\n",
    "loss.backward()  # Backward pass\n",
    "\n",
    "# Validation\n",
    "dout = 2 * (out - target) / np.prod(shape) # derivative of MSELoss\n",
    "cache = x.clone().detach() # Must clone x so it isn't overwritten\n",
    "cache[cache <= 0] = 0\n",
    "dx = cache\n",
    "dx[dx > 0] = 1\n",
    "dx_truth = dout * dx\n",
    "print(f\"x gradients are approximately the same: {torch.allclose(dx_truth, x.grad)}\")\n",
    "\n",
    "# File name: shape_variable_testNum\n",
    "with open(f'relu_{shape[0]}_{shape[1]}_{shape[2]}_{shape[3]}_x_t1.npy', 'wb') as f:\n",
    "    np.save(f, x.detach().numpy())\n",
    "with open(f'relu_{shape[0]}_{shape[1]}_{shape[2]}_{shape[3]}_dx_t1.npy', 'wb') as f:\n",
    "    np.save(f, x.grad.detach().numpy())\n",
    "with open(f'relu_{shape[0]}_{shape[1]}_{shape[2]}_{shape[3]}_out_t1.npy', 'wb') as f:\n",
    "    np.save(f, out.detach().numpy())\n",
    "with open(f'relu_{shape[0]}_{shape[1]}_{shape[2]}_{shape[3]}_dout_t1.npy', 'wb') as f:\n",
    "    np.save(f, dout.detach().numpy())\n"
   ]
  },
  {
   "cell_type": "code",
   "execution_count": 52,
   "metadata": {},
   "outputs": [
    {
     "name": "stdout",
     "output_type": "stream",
     "text": [
      "tensor([[[[ 0.0000,  0.0000],\n",
      "          [-0.0088,  0.0525]],\n",
      "\n",
      "         [[ 0.0000,  0.0000],\n",
      "          [ 0.0750,  0.0000]],\n",
      "\n",
      "         [[ 0.0094,  0.0726],\n",
      "          [ 0.1179,  0.0531]]],\n",
      "\n",
      "\n",
      "        [[[ 0.0516,  0.0000],\n",
      "          [ 0.0000,  0.0424]],\n",
      "\n",
      "         [[ 0.1115,  0.0000],\n",
      "          [ 0.1554,  0.0000]],\n",
      "\n",
      "         [[ 0.0000,  0.0000],\n",
      "          [ 0.0397,  0.1478]]],\n",
      "\n",
      "\n",
      "        [[[ 0.0000, -0.0853],\n",
      "          [ 0.0153,  0.0000]],\n",
      "\n",
      "         [[ 0.0000,  0.0000],\n",
      "          [ 0.0388,  0.0000]],\n",
      "\n",
      "         [[ 0.0000,  0.0000],\n",
      "          [ 0.0000,  0.1355]]],\n",
      "\n",
      "\n",
      "        [[[ 0.0000,  0.0079],\n",
      "          [-0.0631,  0.0778]],\n",
      "\n",
      "         [[ 0.0000,  0.0000],\n",
      "          [ 0.0000,  0.0038]],\n",
      "\n",
      "         [[ 0.0000,  0.0000],\n",
      "          [ 0.0000,  0.0000]]]])\n"
     ]
    }
   ],
   "source": [
    "print(x.grad)\n",
    "# print(cache)\n",
    "# print(dout)"
   ]
  },
  {
   "cell_type": "code",
   "execution_count": null,
   "metadata": {},
   "outputs": [],
   "source": [
    "# Affine/Linear layer testdata generation (using arange to create specific weights)\n",
    "\n",
    "in_shape = (3, 2, 2) # First val is batch size, rest are input dimensions\n",
    "layer_shape = (np.prod(in_shape[1:]), 2) # Shape of linear layer, in_features and out_features\n",
    "\n",
    "x = torch.arange(np.prod(in_shape), dtype=torch.float, requires_grad=True)\n",
    "x = x.reshape((in_shape[0], np.prod(in_shape[1:]))) # Reshape to shape [batch, prod(input_shape)]\n",
    "x.retain_grad() # Needed to calculate gradients for tensor views, i.e. reshape\n",
    "\n",
    "linear = nn.Linear(*layer_shape)\n",
    "w = reversed(torch.arange(np.prod(linear.weight.shape), dtype=torch.float))\n",
    "w = w.reshape(linear.weight.shape)\n",
    "linear.weight = torch.nn.Parameter(w)\n",
    "b = torch.full(linear.bias.shape, 2, dtype=torch.float)\n",
    "linear.bias = torch.nn.Parameter(b)\n",
    "out = linear(x) # Forward pass\n",
    "\n",
    "loss = out.sum() # Using a sum for loss makes backprop extremely easy, dout is just a tensor of ones\n",
    "loss.backward()\n",
    "\n",
    "dx_truth = torch.ones(*out.shape, dtype=torch.float) @ w\n",
    "print(f\"x gradients are approximately the same: {torch.allclose(dx_truth, x.grad)}\")\n",
    "dw_truth = torch.ones(*out.shape, dtype=torch.float).T @ x\n",
    "print(f\"w gradients are approximately the same: {torch.allclose(dw_truth, linear.weight.grad)}\")\n",
    "db_truth = torch.sum(torch.ones(*out.shape, dtype=torch.float).T, axis=1)\n",
    "print(f\"b gradients are approximately the same: {torch.allclose(db_truth, linear.bias.grad)}\")\n"
   ]
  },
  {
   "cell_type": "code",
   "execution_count": null,
   "metadata": {},
   "outputs": [],
   "source": [
    "# Affine/Linear layer testdata generation (random tensors)\n",
    "\n",
    "in_shape = (4, 3, 2) # First val is batch size, rest are input dimensions\n",
    "layer_shape = (np.prod(in_shape[1:]), 10) # Shape of linear layer, in_features and out_features\n",
    "\n",
    "x = torch.randn(*in_shape, requires_grad=True)\n",
    "x = x.reshape((in_shape[0], np.prod(in_shape[1:]))) # Reshape to shape [batch, prod(input_shape)]\n",
    "x.retain_grad() # Needed to calculate gradients for tensor views, i.e. reshape\n",
    "\n",
    "linear = nn.Linear(*layer_shape)\n",
    "out = linear(x) # This output will also be our dout, since loss is just a sum\n",
    "\n",
    "loss = out.sum()\n",
    "loss.backward()\n",
    "\n",
    "dx_truth = torch.ones(*out.shape, dtype=torch.float) @ linear.weight\n",
    "print(f\"x gradients are approximately the same: {torch.allclose(dx_truth, x.grad)}\")\n",
    "dw_truth = torch.ones(*out.shape, dtype=torch.float).T @ x\n",
    "print(f\"w gradients are approximately the same: {torch.allclose(dw_truth, linear.weight.grad)}\")\n",
    "db_truth = torch.sum(torch.ones(*out.shape, dtype=torch.float).T, axis=1)\n",
    "print(f\"b gradients are approximately the same: {torch.allclose(db_truth, linear.bias.grad)}\")"
   ]
  },
  {
   "cell_type": "code",
   "execution_count": null,
   "metadata": {},
   "outputs": [],
   "source": [
    "\n"
   ]
  }
 ],
 "metadata": {
  "kernelspec": {
   "display_name": "deep",
   "language": "python",
   "name": "python3"
  },
  "language_info": {
   "codemirror_mode": {
    "name": "ipython",
    "version": 3
   },
   "file_extension": ".py",
   "mimetype": "text/x-python",
   "name": "python",
   "nbconvert_exporter": "python",
   "pygments_lexer": "ipython3",
   "version": "3.12.2"
  }
 },
 "nbformat": 4,
 "nbformat_minor": 2
}
