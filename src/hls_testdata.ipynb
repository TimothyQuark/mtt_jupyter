{
 "cells": [
  {
   "cell_type": "code",
   "execution_count": 2,
   "metadata": {},
   "outputs": [],
   "source": [
    "import torch\n",
    "import torch.nn as nn\n",
    "import numpy as np"
   ]
  },
  {
   "cell_type": "code",
   "execution_count": null,
   "metadata": {},
   "outputs": [],
   "source": [
    "\"\"\"\n",
    "TODO:\n",
    "- MSEloss for all layer tests\n",
    "- Proper data generation method (multiple datasets needed to test everything)\n",
    "- Test for ints and big float as well\n",
    "\n",
    "\"\"\""
   ]
  },
  {
   "cell_type": "code",
   "execution_count": 2,
   "metadata": {},
   "outputs": [],
   "source": [
    "# Taken from I2DL exercises, need to cite!\n",
    "\n",
    "# def eval_numerical_gradient_array(f, x, df, h=1e-5):\n",
    "#     \"\"\"\n",
    "#     Evaluate a numeric gradient for a function that accepts a numpy\n",
    "#     array and returns a numpy array.\n",
    "#     \"\"\"\n",
    "#     grad = np.zeros_like(x)\n",
    "#     it = np.nditer(x, flags=['multi_index'], op_flags=['readwrite'])\n",
    "#     while not it.finished:\n",
    "#         ix = it.multi_index\n",
    "\n",
    "#         oldval = x[ix]\n",
    "#         x[ix] = oldval + h\n",
    "#         pos = f(x).copy()\n",
    "#         x[ix] = oldval - h\n",
    "#         neg = f(x).copy()\n",
    "#         x[ix] = oldval\n",
    "\n",
    "#         grad[ix] = np.sum((pos - neg) * df) / (2 * h)\n",
    "#         it.iternext()\n",
    "#     return grad"
   ]
  },
  {
   "cell_type": "code",
   "execution_count": 51,
   "metadata": {},
   "outputs": [
    {
     "name": "stdout",
     "output_type": "stream",
     "text": [
      "x gradients are approximately the same: True\n"
     ]
    }
   ],
   "source": [
    "# ReLU testdata generation\n",
    "\n",
    "# First val is batch size, rest are dimensions of data.\n",
    "# Numbers are absed on input shape of MTT ReLU layers\n",
    "# shape = (256, 128, 32, 32)\n",
    "shape = (4, 3, 2, 2)\n",
    "\n",
    "x = torch.randn(*shape, dtype=torch.float, requires_grad=True)\n",
    "relu = nn.ReLU()\n",
    "out = relu(x)  # Forward pass\n",
    "\n",
    "target = torch.randn(*shape)  # Imaginary target values, defines shape of dout\n",
    "loss_fn = nn.MSELoss()\n",
    "loss = loss_fn(out, target)  # Compute loss\n",
    "loss.backward()  # Backward pass\n",
    "\n",
    "# Validation\n",
    "dout = 2 * (out - target) / np.prod(shape) # derivative of MSELoss\n",
    "cache = x.clone().detach() # Must clone x so it isn't overwritten\n",
    "cache[cache <= 0] = 0\n",
    "dx = cache\n",
    "dx[dx > 0] = 1\n",
    "dx_truth = dout * dx\n",
    "print(f\"x gradients are approximately the same: {torch.allclose(dx_truth, x.grad)}\")\n",
    "\n",
    "# File name: shape_variable_testNum\n",
    "with open(f'relu_{shape[0]}_{shape[1]}_{shape[2]}_{shape[3]}_x_t1.npy', 'wb') as f:\n",
    "    np.save(f, x.detach().numpy())\n",
    "with open(f'relu_{shape[0]}_{shape[1]}_{shape[2]}_{shape[3]}_dx_t1.npy', 'wb') as f:\n",
    "    np.save(f, x.grad.detach().numpy())\n",
    "with open(f'relu_{shape[0]}_{shape[1]}_{shape[2]}_{shape[3]}_out_t1.npy', 'wb') as f:\n",
    "    np.save(f, out.detach().numpy())\n",
    "with open(f'relu_{shape[0]}_{shape[1]}_{shape[2]}_{shape[3]}_dout_t1.npy', 'wb') as f:\n",
    "    np.save(f, dout.detach().numpy())\n"
   ]
  },
  {
   "cell_type": "code",
   "execution_count": 52,
   "metadata": {},
   "outputs": [
    {
     "name": "stdout",
     "output_type": "stream",
     "text": [
      "tensor([[[[ 0.0000,  0.0000],\n",
      "          [-0.0088,  0.0525]],\n",
      "\n",
      "         [[ 0.0000,  0.0000],\n",
      "          [ 0.0750,  0.0000]],\n",
      "\n",
      "         [[ 0.0094,  0.0726],\n",
      "          [ 0.1179,  0.0531]]],\n",
      "\n",
      "\n",
      "        [[[ 0.0516,  0.0000],\n",
      "          [ 0.0000,  0.0424]],\n",
      "\n",
      "         [[ 0.1115,  0.0000],\n",
      "          [ 0.1554,  0.0000]],\n",
      "\n",
      "         [[ 0.0000,  0.0000],\n",
      "          [ 0.0397,  0.1478]]],\n",
      "\n",
      "\n",
      "        [[[ 0.0000, -0.0853],\n",
      "          [ 0.0153,  0.0000]],\n",
      "\n",
      "         [[ 0.0000,  0.0000],\n",
      "          [ 0.0388,  0.0000]],\n",
      "\n",
      "         [[ 0.0000,  0.0000],\n",
      "          [ 0.0000,  0.1355]]],\n",
      "\n",
      "\n",
      "        [[[ 0.0000,  0.0079],\n",
      "          [-0.0631,  0.0778]],\n",
      "\n",
      "         [[ 0.0000,  0.0000],\n",
      "          [ 0.0000,  0.0038]],\n",
      "\n",
      "         [[ 0.0000,  0.0000],\n",
      "          [ 0.0000,  0.0000]]]])\n"
     ]
    }
   ],
   "source": [
    "# print(x.grad)\n",
    "# print(cache)\n",
    "# print(dout)"
   ]
  },
  {
   "cell_type": "code",
   "execution_count": 52,
   "metadata": {},
   "outputs": [
    {
     "name": "stdout",
     "output_type": "stream",
     "text": [
      "x gradients are approximately the same: True\n",
      "w gradients are approximately the same: True\n",
      "b gradients are approximately the same: True\n"
     ]
    }
   ],
   "source": [
    "# Affine/Linear layer testdata generation (using arange to create specific weights)\n",
    "\n",
    "in_shape = (3, 2, 2) # First val is batch size, rest are input dimensions\n",
    "layer_shape = (np.prod(in_shape[1:]), 14) # Shape of linear layer, in_features and out_features\n",
    "\n",
    "x = torch.arange(np.prod(in_shape), dtype=torch.float, requires_grad=True)\n",
    "x = x.reshape((in_shape[0], np.prod(in_shape[1:]))) # Reshape to shape [batch, prod(input_shape)]\n",
    "x.retain_grad() # Needed to calculate gradients for tensor views, i.e. reshape\n",
    "\n",
    "linear = nn.Linear(*layer_shape)\n",
    "w = reversed(torch.arange(np.prod(linear.weight.shape), dtype=torch.float))\n",
    "w = w.reshape(linear.weight.shape)\n",
    "linear.weight = torch.nn.Parameter(w)\n",
    "b = torch.full(linear.bias.shape, 2, dtype=torch.float)\n",
    "linear.bias = torch.nn.Parameter(b)\n",
    "out = linear(x) # Forward pass\n",
    "\n",
    "target = torch.randn(in_shape[0], layer_shape[1])  # Imaginary target values, defines shape of dout\n",
    "loss_fn = nn.MSELoss()\n",
    "loss = loss_fn(out, target)  # Compute loss\n",
    "loss.backward()\n",
    "\n",
    "# Validation\n",
    "dout = 2 * (out - target) / np.prod((in_shape[0], layer_shape[1])) # derivative of MSELoss\n",
    "dx_truth = dout @ w\n",
    "dw_truth = dout.T @ x\n",
    "db_truth = torch.sum(dout.T, axis=1)\n",
    "print(f\"x gradients are approximately the same: {torch.allclose(dx_truth, x.grad)}\")\n",
    "print(f\"w gradients are approximately the same: {torch.allclose(dw_truth, linear.weight.grad)}\")\n",
    "print(f\"b gradients are approximately the same: {torch.allclose(db_truth, linear.bias.grad)}\")\n"
   ]
  },
  {
   "cell_type": "code",
   "execution_count": 5,
   "metadata": {},
   "outputs": [
    {
     "name": "stdout",
     "output_type": "stream",
     "text": [
      "x gradients are approximately the same: True\n",
      "w gradients are approximately the same: True\n",
      "b gradients are approximately the same: True\n",
      "out values are approximately the same: True\n"
     ]
    }
   ],
   "source": [
    "# Affine/Linear layer testdata generation (random tensors)\n",
    "\n",
    "in_shape = (17, 7, 3, 2) # First val is batch size, rest are input dimensions\n",
    "layer_shape = (np.prod(in_shape[1:]), 5) # Shape of linear layer, in_features and out_features\n",
    "\n",
    "x = torch.randn(*in_shape, requires_grad=True)\n",
    "x = x.reshape((in_shape[0], np.prod(in_shape[1:]))) # Reshape to shape [batch, prod(input_shape)]\n",
    "x.retain_grad() # Needed to calculate gradients for tensor views, i.e. reshape\n",
    "\n",
    "linear = nn.Linear(*layer_shape)\n",
    "out = linear(x) # This output will also be our dout, since loss is just a sum\n",
    "\n",
    "target = torch.randn(in_shape[0], layer_shape[1])  # Imaginary target values, defines shape of dout\n",
    "loss_fn = nn.MSELoss()\n",
    "loss = loss_fn(out, target)  # Compute loss\n",
    "loss.backward()\n",
    "\n",
    "# Validation\n",
    "dout = 2 * (out - target) / np.prod((in_shape[0], layer_shape[1])) # derivative of MSELoss\n",
    "dx_truth = dout @ linear.weight\n",
    "dw_truth = dout.T @ x\n",
    "db_truth = torch.sum(dout.T, axis=1)\n",
    "out_truth = x @ linear.weight.T + linear.bias\n",
    "print(f\"x gradients are approximately the same: {torch.allclose(dx_truth, x.grad)}\")\n",
    "print(f\"w gradients are approximately the same: {torch.allclose(dw_truth, linear.weight.grad)}\")\n",
    "print(f\"b gradients are approximately the same: {torch.allclose(db_truth, linear.bias.grad)}\")\n",
    "print(f\"out values are approximately the same: {torch.allclose(out_truth, out)}\")\n",
    "\n",
    "it = 1\n",
    "# File name: shape_variable_testNum\n",
    "with open(f'linear_{in_shape[0]}_{in_shape[1]}_{in_shape[2]}_{in_shape[3]}_x_t{it}.npy', 'wb') as f:\n",
    "    np.save(f, x.detach().numpy())\n",
    "with open(f'linear_{in_shape[0]}_{in_shape[1]}_{in_shape[2]}_{in_shape[3]}_w_t{it}.npy', 'wb') as f:\n",
    "    np.save(f, linear.weight.detach().numpy())\n",
    "with open(f'linear_{in_shape[0]}_{in_shape[1]}_{in_shape[2]}_{in_shape[3]}_b_t{it}.npy', 'wb') as f:\n",
    "    np.save(f, linear.bias.detach().numpy())\n",
    "with open(f'linear_{in_shape[0]}_{in_shape[1]}_{in_shape[2]}_{in_shape[3]}_out_t{it}.npy', 'wb') as f:\n",
    "    np.save(f, out.detach().numpy())"
   ]
  },
  {
   "cell_type": "code",
   "execution_count": 13,
   "metadata": {},
   "outputs": [
    {
     "name": "stdout",
     "output_type": "stream",
     "text": [
      "Parameter containing:\n",
      "tensor([[-0.0009,  0.0519, -0.0952,  0.0587,  0.1172,  0.1493, -0.0471, -0.0320,\n",
      "         -0.0374, -0.0195,  0.0899,  0.1536, -0.0031, -0.0105, -0.1482, -0.1202,\n",
      "         -0.1418, -0.1122, -0.0889,  0.1231,  0.0137, -0.0442,  0.0121,  0.0925,\n",
      "          0.0998, -0.0376,  0.0428, -0.1287,  0.0246, -0.0839, -0.0283, -0.0336,\n",
      "          0.0380, -0.0930, -0.0779,  0.0025, -0.0913, -0.0164,  0.1535, -0.0677,\n",
      "         -0.1474,  0.0769],\n",
      "        [-0.0817, -0.0388,  0.1100,  0.0509, -0.1261, -0.0598,  0.0954, -0.0478,\n",
      "          0.0448, -0.0449,  0.0140,  0.0750, -0.0934,  0.0240,  0.0266,  0.1399,\n",
      "          0.0580,  0.0172, -0.1061,  0.0334,  0.1092,  0.1407,  0.0427, -0.0187,\n",
      "         -0.1498,  0.1530,  0.0888, -0.1271,  0.0596,  0.0105, -0.1154,  0.0004,\n",
      "          0.1420,  0.1227, -0.1536, -0.1067, -0.1014,  0.0750,  0.0532,  0.0105,\n",
      "         -0.0728, -0.0335],\n",
      "        [ 0.0091,  0.0265,  0.0566, -0.1167, -0.1236, -0.1133,  0.0863,  0.1491,\n",
      "         -0.0916, -0.0705,  0.1281,  0.1472, -0.0157, -0.0255,  0.1045, -0.0130,\n",
      "          0.0612, -0.0895,  0.0454, -0.0937, -0.0933,  0.1050, -0.0710, -0.1142,\n",
      "         -0.0517, -0.1363, -0.0644, -0.0789,  0.0077,  0.0936,  0.0783, -0.1092,\n",
      "          0.1198, -0.0180,  0.0850,  0.0267, -0.1244, -0.1038, -0.0081,  0.1259,\n",
      "         -0.1185,  0.0437],\n",
      "        [ 0.0087,  0.0693, -0.0935,  0.0517,  0.0201,  0.0456,  0.1406,  0.0542,\n",
      "         -0.0104, -0.1536,  0.0360, -0.0436, -0.0214,  0.0613, -0.0471,  0.0748,\n",
      "         -0.0585, -0.0993,  0.0078,  0.0237, -0.0504,  0.0144,  0.0188, -0.0778,\n",
      "          0.0386, -0.0839, -0.0693,  0.1011,  0.0700, -0.0016,  0.0937, -0.0983,\n",
      "          0.1428, -0.0085, -0.0848, -0.0485,  0.0660,  0.1387, -0.0140,  0.1448,\n",
      "          0.1165,  0.0834],\n",
      "        [-0.1416,  0.0097, -0.1233,  0.0750, -0.0819, -0.0744,  0.0356, -0.0539,\n",
      "         -0.0320,  0.0141, -0.0233, -0.1026,  0.0749,  0.0356, -0.1025,  0.1016,\n",
      "          0.1378, -0.0217,  0.1065,  0.0393, -0.0985,  0.1242, -0.0098,  0.1287,\n",
      "         -0.0604,  0.0782, -0.0379,  0.0955,  0.1029, -0.1008,  0.0648, -0.1276,\n",
      "         -0.0160, -0.0122, -0.1196, -0.1134, -0.1233,  0.0057,  0.1012, -0.0729,\n",
      "         -0.0105,  0.0502]], requires_grad=True)\n"
     ]
    }
   ],
   "source": [
    "print(linear.weight)\n",
    "\n",
    "# test = torch.randn(*in_shape)\n",
    "# print(test.shape)\n",
    "# print(test.T.shape)\n",
    "\n",
    "# print(test[0][0][1][1])\n",
    "# print(test.T[1][1][0][0])\n"
   ]
  }
 ],
 "metadata": {
  "kernelspec": {
   "display_name": "deep",
   "language": "python",
   "name": "python3"
  },
  "language_info": {
   "codemirror_mode": {
    "name": "ipython",
    "version": 3
   },
   "file_extension": ".py",
   "mimetype": "text/x-python",
   "name": "python",
   "nbconvert_exporter": "python",
   "pygments_lexer": "ipython3",
   "version": "3.12.2"
  }
 },
 "nbformat": 4,
 "nbformat_minor": 2
}
