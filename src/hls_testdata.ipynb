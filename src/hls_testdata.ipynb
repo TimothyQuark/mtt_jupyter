{
 "cells": [
  {
   "cell_type": "code",
   "execution_count": 1,
   "metadata": {},
   "outputs": [],
   "source": [
    "import torch\n",
    "import torch.nn as nn\n",
    "import numpy as np"
   ]
  },
  {
   "cell_type": "code",
   "execution_count": 41,
   "metadata": {},
   "outputs": [],
   "source": [
    "# Taken from I2DL exercises, need to cite!\n",
    "\n",
    "def eval_numerical_gradient_array(f, x, df, h=1e-5):\n",
    "    \"\"\"\n",
    "    Evaluate a numeric gradient for a function that accepts a numpy\n",
    "    array and returns a numpy array.\n",
    "    \"\"\"\n",
    "    grad = np.zeros_like(x)\n",
    "    it = np.nditer(x, flags=['multi_index'], op_flags=['readwrite'])\n",
    "    while not it.finished:\n",
    "        ix = it.multi_index\n",
    "\n",
    "        oldval = x[ix]\n",
    "        x[ix] = oldval + h\n",
    "        pos = f(x).copy()\n",
    "        x[ix] = oldval - h\n",
    "        neg = f(x).copy()\n",
    "        x[ix] = oldval\n",
    "\n",
    "        grad[ix] = np.sum((pos - neg) * df) / (2 * h)\n",
    "        it.iternext()\n",
    "    return grad"
   ]
  },
  {
   "cell_type": "code",
   "execution_count": 42,
   "metadata": {},
   "outputs": [
    {
     "name": "stdout",
     "output_type": "stream",
     "text": [
      "tensor([[[-1.2218, -1.6739],\n",
      "         [-0.1923,  0.5284]],\n",
      "\n",
      "        [[ 0.4480,  1.6512],\n",
      "         [-0.9808,  0.1878]]], requires_grad=True)\n",
      "tensor(2.0314, grad_fn=<MseLossBackward0>)\n",
      "torch.Size([2, 2, 2])\n",
      "tensor([[[0.0000, 0.0000],\n",
      "         [0.0000, 0.2294]],\n",
      "\n",
      "        [[0.5159, 0.3379],\n",
      "         [0.0000, 0.3695]]])\n"
     ]
    }
   ],
   "source": [
    "# ReLU testdata generation\n",
    "\n",
    "shape = (2, 2, 2)\n",
    "\n",
    "x = torch.randn(*shape, requires_grad=True)\n",
    "relu = nn.ReLU()\n",
    "out = relu(x)  # Forward pass\n",
    "\n",
    "target = torch.randn(*shape)  # Imaginary target values\n",
    "loss_fn = nn.MSELoss()\n",
    "loss = loss_fn(out, target)  # Compute loss\n",
    "loss.backward()  # Backward pass\n",
    "\n",
    "print(x)\n",
    "print(loss)\n",
    "print(x.grad.shape)\n",
    "print(x.grad)"
   ]
  },
  {
   "cell_type": "code",
   "execution_count": 128,
   "metadata": {},
   "outputs": [
    {
     "name": "stdout",
     "output_type": "stream",
     "text": [
      "x gradients are approximately the same: True\n",
      "w gradients are approximately the same: True\n",
      "b gradients are approximately the same: True\n"
     ]
    }
   ],
   "source": [
    "# Affine/Linear layer testdata generation (using arange to create specific weights)\n",
    "\n",
    "in_shape = (3, 2, 2) # First val is batch size, rest are input dimensions\n",
    "layer_shape = (np.prod(in_shape[1:]), 2) # Shape of linear layer, in_features and out_features\n",
    "\n",
    "x = torch.arange(np.prod(in_shape), dtype=torch.float, requires_grad=True)\n",
    "x = x.reshape((in_shape[0], np.prod(in_shape[1:]))) # Reshape to shape [batch, prod(input_shape)]\n",
    "x.retain_grad() # Needed to calculate gradients for tensor views, i.e. reshape\n",
    "\n",
    "linear = nn.Linear(*layer_shape)\n",
    "w = reversed(torch.arange(np.prod(linear.weight.shape), dtype=torch.float))\n",
    "w = w.reshape(linear.weight.shape)\n",
    "linear.weight = torch.nn.Parameter(w)\n",
    "b = torch.full(linear.bias.shape, 2, dtype=torch.float)\n",
    "linear.bias = torch.nn.Parameter(b)\n",
    "out = linear(x) # Forward pass\n",
    "\n",
    "loss = out.sum() # Using a sum for loss makes backprop extremely easy, dout is just a tensor of ones\n",
    "loss.backward()\n",
    "\n",
    "dx_truth = torch.ones(*out.shape, dtype=torch.float) @ w\n",
    "print(f\"x gradients are approximately the same: {torch.allclose(dx_truth, x.grad)}\")\n",
    "dw_truth = torch.ones(*out.shape, dtype=torch.float).T @ x\n",
    "print(f\"w gradients are approximately the same: {torch.allclose(dw_truth, linear.weight.grad)}\")\n",
    "db_truth = torch.sum(torch.ones(*out.shape, dtype=torch.float).T, axis=1)\n",
    "print(f\"b gradients are approximately the same: {torch.allclose(db_truth, linear.bias.grad)}\")\n"
   ]
  },
  {
   "cell_type": "code",
   "execution_count": 6,
   "metadata": {},
   "outputs": [
    {
     "name": "stdout",
     "output_type": "stream",
     "text": [
      "x gradients are approximately the same: True\n",
      "w gradients are approximately the same: True\n",
      "b gradients are approximately the same: True\n"
     ]
    }
   ],
   "source": [
    "# Affine/Linear layer testdata generation (random tensors)\n",
    "\n",
    "in_shape = (4, 3, 2) # First val is batch size, rest are input dimensions\n",
    "layer_shape = (np.prod(in_shape[1:]), 10) # Shape of linear layer, in_features and out_features\n",
    "\n",
    "x = torch.randn(*in_shape, requires_grad=True)\n",
    "x = x.reshape((in_shape[0], np.prod(in_shape[1:]))) # Reshape to shape [batch, prod(input_shape)]\n",
    "x.retain_grad() # Needed to calculate gradients for tensor views, i.e. reshape\n",
    "\n",
    "linear = nn.Linear(*layer_shape)\n",
    "out = linear(x) # This output will also be our dout, since loss is just a sum\n",
    "\n",
    "loss = out.sum()\n",
    "loss.backward()\n",
    "\n",
    "dx_truth = torch.ones(*out.shape, dtype=torch.float) @ linear.weight\n",
    "print(f\"x gradients are approximately the same: {torch.allclose(dx_truth, x.grad)}\")\n",
    "dw_truth = torch.ones(*out.shape, dtype=torch.float).T @ x\n",
    "print(f\"w gradients are approximately the same: {torch.allclose(dw_truth, linear.weight.grad)}\")\n",
    "db_truth = torch.sum(torch.ones(*out.shape, dtype=torch.float).T, axis=1)\n",
    "print(f\"b gradients are approximately the same: {torch.allclose(db_truth, linear.bias.grad)}\")"
   ]
  },
  {
   "cell_type": "code",
   "execution_count": 35,
   "metadata": {},
   "outputs": [
    {
     "name": "stdout",
     "output_type": "stream",
     "text": [
      "torch.Size([4, 3, 10, 10])\n",
      "torch.Size([100, 1200])\n"
     ]
    }
   ],
   "source": [
    "x = np.random.rand(4, 3, 10,10).astype(np.float32)\n",
    "out = np.zeros(100).astype(np.float32)\n",
    "x = torch.from_numpy(x)\n",
    "x.requires_grad = True\n",
    "layer = nn.Linear(np.prod(x.shape), np.prod(out.shape))\n",
    "out = layer(x.view(-1))\n",
    "\n",
    "loss = out.sum()\n",
    "loss.backward()\n",
    "\n",
    "print(x.shape)\n",
    "print(layer.weight.shape)\n"
   ]
  }
 ],
 "metadata": {
  "kernelspec": {
   "display_name": "deep",
   "language": "python",
   "name": "python3"
  },
  "language_info": {
   "codemirror_mode": {
    "name": "ipython",
    "version": 3
   },
   "file_extension": ".py",
   "mimetype": "text/x-python",
   "name": "python",
   "nbconvert_exporter": "python",
   "pygments_lexer": "ipython3",
   "version": "3.12.2"
  }
 },
 "nbformat": 4,
 "nbformat_minor": 2
}
