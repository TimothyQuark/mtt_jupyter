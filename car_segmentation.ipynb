{
 "cells": [
  {
   "cell_type": "markdown",
   "metadata": {},
   "source": [
    "# Semantic Segmentation of car images\n",
    "\n",
    "In this notebook, we will design a semantic segmentation model using the CamVid dataset"
   ]
  },
  {
   "cell_type": "markdown",
   "metadata": {},
   "source": [
    "## Setup\n",
    "\n",
    "The following cells will import important packages, configure devices, load TensorBoard etc"
   ]
  },
  {
   "cell_type": "code",
   "execution_count": 10,
   "metadata": {},
   "outputs": [],
   "source": [
    "import sys\n",
    "import numpy as np\n",
    "import os\n",
    "import torch\n",
    "import torch.nn as nn\n",
    "import matplotlib.pyplot as plt"
   ]
  },
  {
   "cell_type": "code",
   "execution_count": 11,
   "metadata": {},
   "outputs": [
    {
     "name": "stdout",
     "output_type": "stream",
     "text": [
      "device being used: cpu\n"
     ]
    }
   ],
   "source": [
    "# Set up device\n",
    "\n",
    "device = torch.device(\"cuda:0\" if torch.cuda.is_available() else \"cpu\")\n",
    "print(f\"device being used: {device}\")\n"
   ]
  },
  {
   "cell_type": "code",
   "execution_count": 12,
   "metadata": {},
   "outputs": [],
   "source": [
    "# Set up Matplotlib\n",
    "\n",
    "plt.rcParams[\"figure.figsize\"] = (10.0, 8.0)  # set default size of plots\n",
    "plt.rcParams[\"image.interpolation\"] = \"nearest\"\n",
    "plt.rcParams[\"image.cmap\"] = \"gray\"\n"
   ]
  },
  {
   "cell_type": "code",
   "execution_count": 13,
   "metadata": {},
   "outputs": [
    {
     "name": "stdout",
     "output_type": "stream",
     "text": [
      "The autoreload extension is already loaded. To reload it, use:\n",
      "  %reload_ext autoreload\n"
     ]
    }
   ],
   "source": [
    "# Some small fixes to prevent Jupyter from bugging out\n",
    "\n",
    "# for auto-reloading external modules\n",
    "# see http://stackoverflow.com/questions/1907993/autoreload-of-modules-in-ipython\n",
    "%load_ext autoreload\n",
    "%autoreload 2\n",
    "\n",
    "# To prevent the kernel from dying.\n",
    "os.environ['KMP_DUPLICATE_LIB_OK'] = 'True'\n"
   ]
  },
  {
   "cell_type": "code",
   "execution_count": 14,
   "metadata": {},
   "outputs": [
    {
     "data": {
      "text/plain": [
       "\" Timm notes on superbuggy tensorboard\\n\\nFor some reason tensorboard isn't quitting properly, and keeps the port occupied even\\nif the process itself is killed.\\n\\n1. Check Code Python Interpreter is i2dl\\n\\n2. Check if port occupied:\\nlsof -i:6006\\n\\nKill using the PID from above command (not 6006, the PID!):\\nkill PID\\n\\nSee https://stackoverflow.com/questions/54395201/tensorboard-could-not-bind-to-port-6006-it-was-already-in-use\\nAlso, see this on how to kill tensorboard process (but not the problem here): https://stackoverflow.com/questions/36896164/tensorflow-how-to-close-tensorboard-server\\n\\n3. Alternative if I want to see tensorboard in a webbrowser:\\ntensorboard --logdir=data/ --host localhost --port 8888\\nhttp//localhost:8888\\n\\n\""
      ]
     },
     "execution_count": 14,
     "metadata": {},
     "output_type": "execute_result"
    }
   ],
   "source": [
    "# Set up TensorBoard\n",
    "\n",
    "\"\"\" Timm notes on superbuggy tensorboard\n",
    "\n",
    "For some reason tensorboard isn't quitting properly, and keeps the port occupied even\n",
    "if the process itself is killed.\n",
    "\n",
    "1. Check Code Python Interpreter is i2dl\n",
    "\n",
    "2. Check if port occupied:\n",
    "lsof -i:6006\n",
    "\n",
    "Kill using the PID from above command (not 6006, the PID!):\n",
    "kill PID\n",
    "\n",
    "See https://stackoverflow.com/questions/54395201/tensorboard-could-not-bind-to-port-6006-it-was-already-in-use\n",
    "Also, see this on how to kill tensorboard process (but not the problem here): https://stackoverflow.com/questions/36896164/tensorflow-how-to-close-tensorboard-server\n",
    "\n",
    "3. Alternative if I want to see tensorboard in a webbrowser:\n",
    "tensorboard --logdir=data/ --host localhost --port 8888\n",
    "http//localhost:8888\n",
    "\n",
    "\"\"\"\n",
    "\n",
    "# %load_ext tensorboard\n",
    "# %reload_ext tensorboard\n",
    "# %tensorboard --logdir lightning_logs --port 6006\n"
   ]
  },
  {
   "cell_type": "markdown",
   "metadata": {},
   "source": [
    "# Download and prepare dataset"
   ]
  },
  {
   "cell_type": "markdown",
   "metadata": {},
   "source": [
    "## CityScape Dataset\n",
    "\n",
    "The CityScape dataset will not download automatically with Torchvision. Instead, you will have to download it from their [website](https://www.cityscapes-dataset.com/) by signing up and downloading the *gtFine* and *leftImg8bit* datasets, and placing them in ```root/data/cityscapes``` folder in the root directory of this repository.\n",
    "\n",
    "Sadly, the CityScapes Class in Torchvision is a bit lacking for our use case.\n",
    "- Does not seem to accept slice indexes, so we will have to write our own little version on top of it which fixes the ```__getitem__``` method. That way, we can do something like ```train_dataset[0:3]``` and not just ```train_dataset[1]```\n",
    "- We want to work directly on image tensors, and not a PIL Image object, because we don't need all of the extra stuff that comes with it.\n",
    "- Our target is passed to ```nn.CrossEntropyLoss()``` when calculating the loss, and needs to be of type ```long``` not ```float```\n",
    "\n",
    "Also, applying our model on the full resolution images would be very long, so we will reduce the image resolution for both input and output images"
   ]
  },
  {
   "cell_type": "code",
   "execution_count": 15,
   "metadata": {},
   "outputs": [],
   "source": [
    "from typing import Any, Callable, Dict, List, Optional, Tuple, Union\n",
    "from torchvision.datasets import Cityscapes\n",
    "from torchvision import transforms as vision_tf\n",
    "from PIL.Image import Resampling\n",
    "\n",
    "\"\"\" TODO: \n",
    "- Type annotations would be really nice here\n",
    "- Image resolution too high: need to downsize and upsample probably\n",
    "- Check if we can make things faster, dataloading is always a bottleneck\n",
    "\"\"\"\n",
    "\n",
    "SCALING_FACTOR = 32\n",
    "\n",
    "\n",
    "class FixedCityScapes(Cityscapes):\n",
    "    def __init__(\n",
    "        self,\n",
    "        root: str,\n",
    "        split: str = \"train\",\n",
    "        mode: str = \"fine\",\n",
    "        target_type: List[str] | str = \"instance\",\n",
    "        transform: Callable[..., Any] | None = None,\n",
    "        target_transform: Callable[..., Any] | None = None,\n",
    "        transforms: Callable[..., Any] | None = None,\n",
    "    ) -> None:\n",
    "        super().__init__(\n",
    "            root, split, mode, target_type, transform, target_transform, transforms\n",
    "        )\n",
    "\n",
    "        # TODO: Maybe check if multiple of 2?\n",
    "        self.scaled_w: int = 2048 // SCALING_FACTOR\n",
    "        self.scaled_h: int = 1024 // SCALING_FACTOR\n",
    "\n",
    "        self.to_tensor = (\n",
    "            vision_tf.ToTensor()\n",
    "        )  # This will convert an RGB image to a tensor with value [0,1], i.e. rescales!\n",
    "\n",
    "    def __getitem__(self, key) -> Tuple[Any, Any]:\n",
    "        if isinstance(key, slice):\n",
    "            # This will take the start, stop and step of the slice\n",
    "            # self[i] will return the below isinstance(key, int) logic\n",
    "            return [self[i] for i in range(*key.indices(len(self)))]\n",
    "        elif isinstance(key, int):\n",
    "            raw = super().__getitem__(key)\n",
    "            if self.split in (\"train\", \"val\"):\n",
    "                data = (\n",
    "                    self.to_tensor(\n",
    "                        raw[0].resize(\n",
    "                            (self.scaled_w, self.scaled_h), Resampling.NEAREST\n",
    "                        )\n",
    "                    ),\n",
    "                    (\n",
    "                        torch.from_numpy(\n",
    "                            np.array(\n",
    "                                raw[1][0].resize(\n",
    "                                    (self.scaled_w, self.scaled_h), Resampling.NEAREST\n",
    "                                ),\n",
    "                                dtype=np.int64,\n",
    "                            )\n",
    "                        ),\n",
    "                        torch.from_numpy(\n",
    "                            np.array(\n",
    "                                raw[1][1].resize(\n",
    "                                    (self.scaled_w, self.scaled_h), Resampling.NEAREST\n",
    "                                ),\n",
    "                                dtype=np.int64,\n",
    "                            )\n",
    "                        ),\n",
    "                    ),\n",
    "                )\n",
    "            elif self.split == \"test\":\n",
    "                raw = super().__getitem__(key)\n",
    "                data = (\n",
    "                    self.to_tensor(\n",
    "                        raw[0].resize(\n",
    "                            (self.scaled_w, self.scaled_h), Resampling.NEAREST\n",
    "                        )\n",
    "                    ),\n",
    "                    torch.from_numpy(\n",
    "                        np.array(\n",
    "                            raw[1].resize(\n",
    "                                (self.scaled_w, self.scaled_h), Resampling.NEAREST\n",
    "                            ),\n",
    "                            dtype=np.int64,\n",
    "                        )\n",
    "                    ),  # This is empty image and pretty useless\n",
    "                )\n",
    "            else:\n",
    "                raise KeyError(f\"Type of split is not known: {self.split}\")\n",
    "            return data\n",
    "        else:\n",
    "            raise TypeError(f\"Invalid argument type (key is of type {type(key)})\")"
   ]
  },
  {
   "cell_type": "code",
   "execution_count": 16,
   "metadata": {},
   "outputs": [
    {
     "name": "stdout",
     "output_type": "stream",
     "text": [
      "Loading training dataset\n",
      "Loading validation dataset\n",
      "Loading test dataset\n",
      "Done loading datasets\n"
     ]
    }
   ],
   "source": [
    "from torchvision.datasets import Cityscapes\n",
    "\n",
    "# https://pytorch.org/vision/0.15/generated/torchvision.datasets.Cityscapes.html#torchvision.datasets.Cityscapes\n",
    "# https://stackoverflow.com/questions/56650201/how-to-convert-35-classes-of-cityscapes-dataset-to-19-classes\n",
    "# https://www.cityscapes-dataset.com/downloads/\n",
    "\n",
    "# TODO: Augmentations and transforms\n",
    "\n",
    "print(\"Loading training dataset\")\n",
    "train_dataset = FixedCityScapes(\n",
    "    root=\"data/cityscapes\",\n",
    "    split=\"train\",\n",
    "    mode=\"fine\",\n",
    "    target_type=[\"semantic\", \"color\"],\n",
    ")\n",
    "print(\"Loading validation dataset\")\n",
    "val_dataset = FixedCityScapes(\n",
    "    root=\"data/cityscapes\", split=\"val\", mode=\"fine\", target_type=[\"semantic\", \"color\"]\n",
    ")\n",
    "print(\"Loading test dataset\")\n",
    "test_dataset = FixedCityScapes(\n",
    "    root=\"data/cityscapes\", split=\"test\", mode=\"fine\", target_type=\"semantic\"\n",
    ")  # Test data is unlabeled, so semantic target is simply black\n",
    "print(\"Done loading datasets\")"
   ]
  },
  {
   "cell_type": "code",
   "execution_count": 17,
   "metadata": {},
   "outputs": [
    {
     "name": "stdout",
     "output_type": "stream",
     "text": [
      "Train size: 2975\n",
      "Validation size: 500\n",
      "Test size: 1525\n",
      "Image dimensions: torch.Size([3, 32, 64])\n",
      "Target mask dimensions: torch.Size([32, 64])\n",
      "Target tuple size: 2\n"
     ]
    },
    {
     "data": {
      "text/plain": [
       "(tensor([[[0.4196, 0.4000, 0.3804,  ..., 0.1333, 0.0588, 0.0471],\n",
       "          [0.4118, 0.3961, 0.3686,  ..., 0.1961, 0.1647, 0.1255],\n",
       "          [0.3961, 0.3765, 0.3765,  ..., 0.1412, 0.2196, 0.1059],\n",
       "          ...,\n",
       "          [0.3922, 0.3922, 0.3922,  ..., 0.2431, 0.2588, 0.2314],\n",
       "          [0.3765, 0.4000, 0.3647,  ..., 0.2431, 0.2745, 0.2824],\n",
       "          [0.3882, 0.3882, 0.3569,  ..., 0.2078, 0.2275, 0.2353]],\n",
       " \n",
       "         [[0.4627, 0.4588, 0.4431,  ..., 0.2196, 0.1020, 0.1333],\n",
       "          [0.4627, 0.4588, 0.4353,  ..., 0.2667, 0.1725, 0.1882],\n",
       "          [0.4510, 0.4392, 0.4392,  ..., 0.1804, 0.2392, 0.1451],\n",
       "          ...,\n",
       "          [0.4549, 0.4549, 0.4510,  ..., 0.2902, 0.3020, 0.2784],\n",
       "          [0.4431, 0.4588, 0.4235,  ..., 0.2863, 0.3137, 0.3216],\n",
       "          [0.4471, 0.4549, 0.4157,  ..., 0.2510, 0.2627, 0.2588]],\n",
       " \n",
       "         [[0.3961, 0.4039, 0.3686,  ..., 0.1843, 0.0745, 0.0588],\n",
       "          [0.3882, 0.3961, 0.3686,  ..., 0.1686, 0.1490, 0.1373],\n",
       "          [0.3765, 0.3725, 0.3843,  ..., 0.1333, 0.1882, 0.1098],\n",
       "          ...,\n",
       "          [0.4118, 0.4039, 0.3961,  ..., 0.2471, 0.2588, 0.2471],\n",
       "          [0.3961, 0.4039, 0.3647,  ..., 0.2392, 0.2627, 0.2745],\n",
       "          [0.4000, 0.4039, 0.3725,  ..., 0.2196, 0.2314, 0.2235]]]),\n",
       " tensor([[2, 0, 0,  ..., 2, 2, 2],\n",
       "         [0, 0, 0,  ..., 0, 0, 0],\n",
       "         [0, 0, 0,  ..., 0, 0, 0],\n",
       "         ...,\n",
       "         [0, 0, 0,  ..., 0, 0, 0],\n",
       "         [0, 0, 0,  ..., 1, 1, 1],\n",
       "         [2, 2, 2,  ..., 1, 1, 1]]))"
      ]
     },
     "execution_count": 17,
     "metadata": {},
     "output_type": "execute_result"
    }
   ],
   "source": [
    "# Show some basic information about the dataset\n",
    "\n",
    "print(\"Train size: %i\" % len(train_dataset))\n",
    "print(\"Validation size: %i\" % len(val_dataset))\n",
    "print(\"Test size: %i\" % len(test_dataset))\n",
    "\n",
    "# Dataset returns a tuple of PIL Images, input image and segmented groundtruth\n",
    "# https://pillow.readthedocs.io/en/stable/reference/Image.html#image-attributes\n",
    "first_image = train_dataset[0]\n",
    "print(f\"Image dimensions: {first_image[0].shape}\")\n",
    "print(f\"Target mask dimensions: {first_image[1][0].shape}\")\n",
    "print(\n",
    "    f\"Target tuple size: {len(first_image[1])}\"\n",
    ")  # items called from the dataset are a tuple, first item is input image, second is another tuple with targets\n",
    "\n",
    "test_dataset[0]"
   ]
  },
  {
   "cell_type": "code",
   "execution_count": 18,
   "metadata": {},
   "outputs": [],
   "source": [
    "# Function to visualize data\n",
    "from torch import Tensor\n",
    "\n",
    "# TODO: Clean up repeated code\n",
    "\n",
    "\n",
    "def visualize_imgs(images):\n",
    "    if isinstance(images[0], Tensor):\n",
    "        plt.figure(figsize=(20, 6))\n",
    "\n",
    "        # Input image\n",
    "        plt.subplot(1, 3, 1)\n",
    "        plt.imshow(images[0].numpy().transpose(1, 2, 0))\n",
    "        plt.axis(\"off\")\n",
    "        plt.title(\"Input image\")\n",
    "\n",
    "        # Colored Ground truth segmented image\n",
    "        # Input image\n",
    "        plt.subplot(1, 3, 2)\n",
    "        plt.imshow(images[1][1].numpy())\n",
    "        plt.axis(\"off\")\n",
    "        plt.title(\"Ground Truth (colored)\")\n",
    "\n",
    "        # Ground truth using ids (so basically shades of grey)\n",
    "        # Input image\n",
    "        plt.subplot(1, 3, 3)\n",
    "        plt.imshow(images[1][0].numpy())\n",
    "        plt.axis(\"off\")\n",
    "        plt.title(\"Ground Truth (ids)\")\n",
    "    else:\n",
    "        n = len(images)\n",
    "        plt.figure(figsize=(20, 6 * n))\n",
    "        for i, (img, target) in enumerate(images):\n",
    "            # Input image\n",
    "            plt.subplot(n, 3, i * 3 + 1)\n",
    "            plt.imshow(img.numpy().transpose(1, 2, 0))\n",
    "            plt.axis(\"off\")\n",
    "            if i == 0:\n",
    "                plt.title(\"Input image\")\n",
    "\n",
    "            # Colored Ground truth segmented image\n",
    "            # Input image\n",
    "            plt.subplot(n, 3, i * 3 + 2)\n",
    "            plt.imshow(target[1].numpy())\n",
    "            plt.axis(\"off\")\n",
    "            if i == 0:\n",
    "                plt.title(\"Ground Truth (colored)\")\n",
    "\n",
    "            # Ground truth using ids (so basically shades of grey)\n",
    "            # Input image\n",
    "            plt.subplot(n, 3, i * 3 + 3)\n",
    "            plt.imshow(target[0].numpy())\n",
    "            plt.axis(\"off\")\n",
    "            if i == 0:\n",
    "                plt.title(\"Ground Truth (IDs)\")"
   ]
  },
  {
   "cell_type": "code",
   "execution_count": 19,
   "metadata": {},
   "outputs": [
    {
     "data": {
      "image/png": "[encoded data removed]",
      "text/plain": [
       "<Figure size 2000x2400 with 12 Axes>"
      ]
     },
     "metadata": {},
     "output_type": "display_data"
    }
   ],
   "source": [
    "# Show some of the dataset\n",
    "\n",
    "num_example_imgs = 4\n",
    "visualize_imgs(train_dataset[0:num_example_imgs])\n"
   ]
  },
  {
   "cell_type": "markdown",
   "metadata": {},
   "source": [
    "TODO:\n",
    "\n",
    "- Create model\n",
    "- Create tensor that uses one hot encoding for ids, not just a flat image\n",
    "- Use a UNet\n",
    "- Create trainer (use dataloader, load to device)\n",
    "- Use a good loss function"
   ]
  },
  {
   "cell_type": "markdown",
   "metadata": {},
   "source": [
    "# Design of Segmentation Model"
   ]
  },
  {
   "cell_type": "code",
   "execution_count": 20,
   "metadata": {},
   "outputs": [],
   "source": [
    "# Helper Classes\n",
    "\n",
    "\n",
    "class ConvSandwich(nn.Module):\n",
    "    def __init__(self, in_channels, out_channels, kernel_size=3, stride=1, padding=1):\n",
    "        super(ConvSandwich, self).__init__()\n",
    "        self.conv = nn.Conv2d(\n",
    "            in_channels, out_channels, kernel_size, stride, padding, bias=False\n",
    "        )  # Because we use Batchnorm, bias is averaged out\n",
    "        self.norm = nn.BatchNorm2d(out_channels)\n",
    "        self.activation = nn.ReLU()\n",
    "\n",
    "    def forward(self, x):\n",
    "        x = self.conv(x)\n",
    "        x = self.norm(x)\n",
    "        x = self.activation(x)\n",
    "        return x\n",
    "\n",
    "\n",
    "class PrintLayer(nn.Module):\n",
    "    def forward(self, x):\n",
    "        print(x.shape)\n",
    "        return x"
   ]
  },
  {
   "cell_type": "code",
   "execution_count": 21,
   "metadata": {},
   "outputs": [],
   "source": [
    "# Encoder and Decoder\n",
    "\n",
    "\"\"\"\n",
    "TODO:\n",
    "- Optimizer only train encoder of decoder\n",
    "- Make my own model\n",
    "- Use PyTorch optimizations from their guide: \n",
    "\"\"\"\n",
    "\n",
    "\n",
    "class SegmentationNN(nn.Module):\n",
    "    def __init__(self, hp={}):\n",
    "        super().__init__()\n",
    "        self.hp = hp\n",
    "\n",
    "        self.mid_channels = 64\n",
    "        self.pre_process = ConvSandwich(3, self.mid_channels, 3, 1, 1)\n",
    "        self.encoder_block = nn.ModuleList(\n",
    "            [\n",
    "                ConvSandwich(self.mid_channels, self.mid_channels * 2, 3, 1, 1),\n",
    "                ConvSandwich(self.mid_channels * 2, self.mid_channels * 4, 3, 1, 1),\n",
    "                ConvSandwich(self.mid_channels * 4, self.mid_channels * 4, 3, 1, 1),\n",
    "                ConvSandwich(self.mid_channels * 4, self.mid_channels * 8, 3, 1, 1),\n",
    "            ]\n",
    "        )\n",
    "\n",
    "        self.decoder_block = nn.ModuleList(\n",
    "            [\n",
    "                ConvSandwich(\n",
    "                    self.mid_channels * (8 + 8), self.mid_channels * 4, 3, 1, 1\n",
    "                ),\n",
    "                ConvSandwich(\n",
    "                    self.mid_channels * (4 + 4), self.mid_channels * 4, 3, 1, 1\n",
    "                ),\n",
    "                ConvSandwich(\n",
    "                    self.mid_channels * (4 + 4), self.mid_channels * 2, 3, 1, 1\n",
    "                ),\n",
    "                ConvSandwich(self.mid_channels * (2 + 2), self.mid_channels, 3, 1, 1),\n",
    "            ]\n",
    "        )\n",
    "\n",
    "        self.downsample = nn.MaxPool2d(kernel_size=2, stride=2)\n",
    "        self.upsample = nn.Upsample(scale_factor=2, mode=\"bicubic\")\n",
    "        self.classifier = nn.Conv2d(\n",
    "            self.mid_channels * 2 + 3, self.hp[\"output_size\"], kernel_size=3, padding=1\n",
    "        )\n",
    "        self.print = PrintLayer()  # Used for debugging\n",
    "\n",
    "        self.device = hp.get(\n",
    "            \"device\", torch.device(\"cuda\" if torch.cuda.is_available() else \"cpu\")\n",
    "        )\n",
    "        self.set_optimizer()\n",
    "\n",
    "        # TODO: Weights init\n",
    "\n",
    "    def forward(self, x):\n",
    "        # Unet network\n",
    "\n",
    "        # Note to self: need to use multiples of 2 or else rounding makes torch.cat try to concat tensors\n",
    "        # of different sizes\n",
    "\n",
    "        proc_x = self.pre_process(x)\n",
    "        enc_1 = self.encoder_block[0](proc_x)\n",
    "        tmp = self.downsample(enc_1)\n",
    "        enc_2 = self.encoder_block[1](tmp)\n",
    "        tmp = self.downsample(enc_2)\n",
    "        enc_3 = self.encoder_block[2](tmp)\n",
    "        tmp = self.downsample(enc_3)\n",
    "        enc_4 = self.encoder_block[3](tmp)\n",
    "\n",
    "        bottleneck = self.downsample(enc_4)\n",
    "\n",
    "        tmp = self.upsample(bottleneck)\n",
    "        dec_1 = self.decoder_block[0](torch.cat([tmp, enc_4], dim=1))\n",
    "        tmp = self.upsample(dec_1)\n",
    "        dec_2 = self.decoder_block[1](torch.cat([tmp, enc_3], dim=1))\n",
    "        tmp = self.upsample(dec_2)\n",
    "        dec_3 = self.decoder_block[2](torch.cat([tmp, enc_2], dim=1))\n",
    "        tmp = self.upsample(dec_3)\n",
    "        dec_4 = self.decoder_block[3](torch.cat([tmp, enc_1], dim=1))\n",
    "        tmp = self.upsample(dec_4)\n",
    "\n",
    "        dec_4 = torch.cat([dec_4, proc_x], dim=1)\n",
    "        dec_4 = torch.cat([dec_4, x], dim=1)\n",
    "        x = self.classifier(dec_4)\n",
    "\n",
    "        return x\n",
    "\n",
    "    def set_optimizer(self):\n",
    "        self.optimizer = None\n",
    "\n",
    "        self.optimizer = torch.optim.Adam(\n",
    "            self.parameters(),\n",
    "            lr=self.hp[\"learning_rate\"],\n",
    "            weight_decay=self.hp[\"weight_decay\"],\n",
    "        )\n",
    "\n",
    "    def training_step(self, batch, loss_func):\n",
    "        self.train()\n",
    "        self.optimizer.zero_grad()  # Reset gradient every batch\n",
    "\n",
    "        # N = batch size, C = channels (3 for RGB), H = image height, W = image width\n",
    "        images = batch[0].to(self.device)  # Input batch, N x C x H x W\n",
    "        target = (\n",
    "            batch[1][0].to(self.device).squeeze()\n",
    "        )  # Ground truth, each pixel assigned an ID int. N x H x W\n",
    "\n",
    "        # Model makes prediction (forward pass)\n",
    "        pred = self.forward(images)  # N x C x H x W (C=num of CityScape classes)\n",
    "\n",
    "        # Calculate loss, do backward pass to update weights, optimizer takes step\n",
    "        # torch.nn.CrossEntropyLoss(ignore_index=0, reduction=\"mean\") wants target to be of type long, not float\n",
    "        loss = loss_func(pred, target)\n",
    "        loss.backward()\n",
    "        self.optimizer.step()\n",
    "\n",
    "        return loss\n",
    "\n",
    "    def validation_step(self, batch, loss_func):\n",
    "        loss = 0\n",
    "\n",
    "        # Set model to eval\n",
    "        self.eval()\n",
    "\n",
    "        with torch.no_grad():\n",
    "            images = batch[0].to(self.device)  # Input batch, N x C x H x W\n",
    "            target = (\n",
    "                batch[1][0].to(self.device).squeeze()\n",
    "            )  # Ground truth, each pixel assigned an ID int. N x H x W\n",
    "\n",
    "            pred = self.forward(images)\n",
    "            loss = loss_func(pred, target)\n",
    "\n",
    "        return loss\n"
   ]
  },
  {
   "cell_type": "markdown",
   "metadata": {},
   "source": [
    "# Train Model"
   ]
  },
  {
   "cell_type": "code",
   "execution_count": 22,
   "metadata": {},
   "outputs": [],
   "source": [
    "# Hyperparameters\n",
    "\n",
    "hparams = {\n",
    "    \"device\": device,\n",
    "    \"num_workers\": 8,\n",
    "    \"epochs\": 1,\n",
    "    \"batch_size\": 16,\n",
    "    \"max_patience\": 10,\n",
    "    \"input_size\": (2048 * 1024)\n",
    "    // (SCALING_FACTOR * SCALING_FACTOR),  # Scaled image resolution\n",
    "    # Classes in CityScape, should be 35\n",
    "    \"output_size\": len(Cityscapes.classes),\n",
    "    \"learning_rate\": 1e-3,\n",
    "    \"weight_decay\": 1e-8,\n",
    "}"
   ]
  },
  {
   "cell_type": "markdown",
   "metadata": {},
   "source": [
    "Since this is just for demonstration purposes, let us make sure the model is not too big. We want to be able to run it on something like a CPU even if we don't have access to a GPU!"
   ]
  },
  {
   "cell_type": "code",
   "execution_count": 24,
   "metadata": {},
   "outputs": [
    {
     "data": {
      "text/plain": [
       "==========================================================================================\n",
       "Layer (type:depth-idx)                   Output Shape              Param #\n",
       "==========================================================================================\n",
       "SegmentationNN                           [16, 35, 256, 128]        --\n",
       "├─ConvSandwich: 1-1                      [16, 64, 256, 128]        --\n",
       "│    └─Conv2d: 2-1                       [16, 64, 256, 128]        1,728\n",
       "│    └─BatchNorm2d: 2-2                  [16, 64, 256, 128]        128\n",
       "│    └─ReLU: 2-3                         [16, 64, 256, 128]        --\n",
       "├─ModuleList: 1-8                        --                        (recursive)\n",
       "│    └─ConvSandwich: 2-4                 [16, 128, 256, 128]       --\n",
       "│    │    └─Conv2d: 3-1                  [16, 128, 256, 128]       73,728\n",
       "│    │    └─BatchNorm2d: 3-2             [16, 128, 256, 128]       256\n",
       "│    │    └─ReLU: 3-3                    [16, 128, 256, 128]       --\n",
       "├─MaxPool2d: 1-3                         [16, 128, 128, 64]        --\n",
       "├─ModuleList: 1-8                        --                        (recursive)\n",
       "│    └─ConvSandwich: 2-5                 [16, 256, 128, 64]        --\n",
       "│    │    └─Conv2d: 3-4                  [16, 256, 128, 64]        294,912\n",
       "│    │    └─BatchNorm2d: 3-5             [16, 256, 128, 64]        512\n",
       "│    │    └─ReLU: 3-6                    [16, 256, 128, 64]        --\n",
       "├─MaxPool2d: 1-5                         [16, 256, 64, 32]         --\n",
       "├─ModuleList: 1-8                        --                        (recursive)\n",
       "│    └─ConvSandwich: 2-6                 [16, 256, 64, 32]         --\n",
       "│    │    └─Conv2d: 3-7                  [16, 256, 64, 32]         589,824\n",
       "│    │    └─BatchNorm2d: 3-8             [16, 256, 64, 32]         512\n",
       "│    │    └─ReLU: 3-9                    [16, 256, 64, 32]         --\n",
       "├─MaxPool2d: 1-7                         [16, 256, 32, 16]         --\n",
       "├─ModuleList: 1-8                        --                        (recursive)\n",
       "│    └─ConvSandwich: 2-7                 [16, 512, 32, 16]         --\n",
       "│    │    └─Conv2d: 3-10                 [16, 512, 32, 16]         1,179,648\n",
       "│    │    └─BatchNorm2d: 3-11            [16, 512, 32, 16]         1,024\n",
       "│    │    └─ReLU: 3-12                   [16, 512, 32, 16]         --\n",
       "├─MaxPool2d: 1-9                         [16, 512, 16, 8]          --\n",
       "├─Upsample: 1-10                         [16, 512, 32, 16]         --\n",
       "├─ModuleList: 1-17                       --                        (recursive)\n",
       "│    └─ConvSandwich: 2-8                 [16, 256, 32, 16]         --\n",
       "│    │    └─Conv2d: 3-13                 [16, 256, 32, 16]         2,359,296\n",
       "│    │    └─BatchNorm2d: 3-14            [16, 256, 32, 16]         512\n",
       "│    │    └─ReLU: 3-15                   [16, 256, 32, 16]         --\n",
       "├─Upsample: 1-12                         [16, 256, 64, 32]         --\n",
       "├─ModuleList: 1-17                       --                        (recursive)\n",
       "│    └─ConvSandwich: 2-9                 [16, 256, 64, 32]         --\n",
       "│    │    └─Conv2d: 3-16                 [16, 256, 64, 32]         1,179,648\n",
       "│    │    └─BatchNorm2d: 3-17            [16, 256, 64, 32]         512\n",
       "│    │    └─ReLU: 3-18                   [16, 256, 64, 32]         --\n",
       "├─Upsample: 1-14                         [16, 256, 128, 64]        --\n",
       "├─ModuleList: 1-17                       --                        (recursive)\n",
       "│    └─ConvSandwich: 2-10                [16, 128, 128, 64]        --\n",
       "│    │    └─Conv2d: 3-19                 [16, 128, 128, 64]        589,824\n",
       "│    │    └─BatchNorm2d: 3-20            [16, 128, 128, 64]        256\n",
       "│    │    └─ReLU: 3-21                   [16, 128, 128, 64]        --\n",
       "├─Upsample: 1-16                         [16, 128, 256, 128]       --\n",
       "├─ModuleList: 1-17                       --                        (recursive)\n",
       "│    └─ConvSandwich: 2-11                [16, 64, 256, 128]        --\n",
       "│    │    └─Conv2d: 3-22                 [16, 64, 256, 128]        147,456\n",
       "│    │    └─BatchNorm2d: 3-23            [16, 64, 256, 128]        128\n",
       "│    │    └─ReLU: 3-24                   [16, 64, 256, 128]        --\n",
       "├─Upsample: 1-18                         [16, 64, 512, 256]        --\n",
       "├─Conv2d: 1-19                           [16, 35, 256, 128]        41,300\n",
       "==========================================================================================\n",
       "Total params: 6,461,204\n",
       "Trainable params: 6,461,204\n",
       "Non-trainable params: 0\n",
       "Total mult-adds (G): 341.46\n",
       "==========================================================================================\n",
       "Input size (MB): 6.29\n",
       "Forward/backward pass size (MB): 3468.69\n",
       "Params size (MB): 25.84\n",
       "Estimated Total Size (MB): 3500.83\n",
       "=========================================================================================="
      ]
     },
     "execution_count": 24,
     "metadata": {},
     "output_type": "execute_result"
    }
   ],
   "source": [
    "from torchinfo import summary\n",
    "\n",
    "model = SegmentationNN(hp=hparams)\n",
    "summary(model, input_size=(hparams[\"batch_size\"], 3, 256, 128))\n"
   ]
  },
  {
   "cell_type": "code",
   "execution_count": 27,
   "metadata": {},
   "outputs": [],
   "source": [
    "import torch\n",
    "from tqdm import tqdm\n",
    "from torch.utils.tensorboard import SummaryWriter\n",
    "\n",
    "\n",
    "def create_tqdm_bar(iterable, desc):\n",
    "    return tqdm(enumerate(iterable), total=len(iterable), ncols=150, desc=desc)\n",
    "\n",
    "\n",
    "def train_model(\n",
    "    model, train_loader, val_loader, loss_func, tb_logger, epochs=3, name=\"segmentation\"\n",
    "):\n",
    "    optimizer = model.optimizer\n",
    "\n",
    "    scheduler = torch.optim.lr_scheduler.StepLR(\n",
    "        optimizer, step_size=epochs * len(train_loader) / 5, gamma=0.7\n",
    "    )\n",
    "\n",
    "    validation_loss = 0\n",
    "    model = model.to(device)\n",
    "\n",
    "    patience = model.hp[\"max_patience\"]\n",
    "    best_val_loss = 10e10\n",
    "\n",
    "    for epoch in range(epochs):\n",
    "        # Training\n",
    "        training_loop = create_tqdm_bar(\n",
    "            train_loader, desc=f\"Training Epoch [{epoch + 1}/{epochs}]\"\n",
    "        )\n",
    "        training_loss = 0\n",
    "        for train_iter, batch in training_loop:\n",
    "            loss = model.training_step(batch, loss_func)\n",
    "            training_loss += loss.item()\n",
    "            scheduler.step()\n",
    "\n",
    "            # Update progress bar\n",
    "            training_loop.set_postfix(\n",
    "                train_loss=\"{:.8f}\".format(training_loss / (train_iter + 1)),\n",
    "                lr=\"{:.8f}\".format(optimizer.param_groups[0][\"lr\"]),\n",
    "            )\n",
    "            tb_logger.add_scalar(\n",
    "                f\"{name}/train_loss\",\n",
    "                loss.item(),\n",
    "                epoch * len(train_loader) + train_iter,\n",
    "            )\n",
    "\n",
    "        # Validation\n",
    "        val_loop = create_tqdm_bar(\n",
    "            val_loader, desc=f\"Validation Epoch [{epoch + 1}/{epochs}]\"\n",
    "        )\n",
    "        validation_loss = 0\n",
    "        with torch.no_grad():  # Don't actually need because validation_step already has it?\n",
    "            for val_iter, batch in val_loop:\n",
    "                loss = model.validation_step(batch, loss_func)\n",
    "                validation_loss += loss.item()\n",
    "\n",
    "                # Update the progress bar\n",
    "                val_loop.set_postfix(\n",
    "                    patience=\"{}\".format(patience),\n",
    "                    val_loss=\"{:.8f}\".format(validation_loss / (val_iter + 1)),\n",
    "                )\n",
    "\n",
    "                # Update the tensorboard logger.\n",
    "                tb_logger.add_scalar(\n",
    "                    f\"{name}/val_loss\",\n",
    "                    validation_loss / (val_iter + 1),\n",
    "                    epoch * len(val_loader) + val_iter,\n",
    "                )\n",
    "\n",
    "        scaled_loss = validation_loss / (\n",
    "            val_iter + 1\n",
    "        )  # validation_loss is sum of batch losses, we want average\n",
    "        if scaled_loss <= best_val_loss:\n",
    "            patience = model.hp[\"max_patience\"]\n",
    "            best_val_loss = scaled_loss  # Rescaled based on batch size\n",
    "        else:\n",
    "            patience -= 1\n",
    "\n",
    "        # End program if patience is done\n",
    "        if patience == 0:\n",
    "            print(f\"Stopping early at epoch {epoch}! (patience done)\")\n",
    "            print(f\"Best Val loss: {best_val_loss}. Final Val loss used: {scaled_loss}\")\n",
    "            break\n",
    "\n",
    "        # This value is for the progress bar of the training loop.\n",
    "        validation_loss /= len(val_loader)\n",
    "    print(f\"Best Val loss: {best_val_loss}. Final Val loss used: {scaled_loss}\")"
   ]
  },
  {
   "cell_type": "code",
   "execution_count": 28,
   "metadata": {},
   "outputs": [
    {
     "name": "stderr",
     "output_type": "stream",
     "text": [
      "Training Epoch [1/1]: 100%|███████████████████████████████████████████████████| 186/186 [05:37<00:00,  1.81s/it, lr=0.00100000, train_loss=0.97438852]\n",
      "Validation Epoch [1/1]: 100%|███████████████████████████████████████████████████████| 32/32 [00:48<00:00,  1.51s/it, patience=10, val_loss=0.85792981]"
     ]
    },
    {
     "name": "stdout",
     "output_type": "stream",
     "text": [
      "Best Val loss: 0.8579298108816147. Final Val loss used: 0.8579298108816147\n"
     ]
    },
    {
     "name": "stderr",
     "output_type": "stream",
     "text": [
      "\n"
     ]
    }
   ],
   "source": [
    "model = SegmentationNN(hp=hparams)\n",
    "\n",
    "# Create the tb_logger\n",
    "path = os.path.join(\"logs\", \"segmentation_logs\")\n",
    "num_of_runs = len(os.listdir(path)) if os.path.exists(path) else 0\n",
    "path = os.path.join(path, f\"run_{num_of_runs + 1}\")\n",
    "tb_logger = SummaryWriter(path)\n",
    "\n",
    "# Train the model\n",
    "# TODO: Maybe try to use a small dataset first?\n",
    "train_loader = torch.utils.data.DataLoader(\n",
    "    train_dataset, batch_size=hparams[\"batch_size\"], shuffle=True\n",
    ")\n",
    "val_loader = torch.utils.data.DataLoader(\n",
    "    val_dataset, batch_size=hparams[\"batch_size\"], shuffle=False\n",
    ")\n",
    "\n",
    "epochs = hparams.get(\"epochs\", 5)\n",
    "loss_func = torch.nn.CrossEntropyLoss(ignore_index=0, reduction=\"mean\")\n",
    "train_model(\n",
    "    model,\n",
    "    train_loader,\n",
    "    val_loader,\n",
    "    loss_func,\n",
    "    tb_logger,\n",
    "    epochs=epochs,\n",
    "    name=\"segmentation\",\n",
    ")"
   ]
  },
  {
   "cell_type": "code",
   "execution_count": 34,
   "metadata": {},
   "outputs": [
    {
     "name": "stdout",
     "output_type": "stream",
     "text": [
      "Saving the model to 'models' folder\n"
     ]
    },
    {
     "data": {
      "text/plain": [
       "'models/segmentation_unet.pt'"
      ]
     },
     "execution_count": 34,
     "metadata": {},
     "output_type": "execute_result"
    }
   ],
   "source": [
    "# Save and load model. Saving and loading not part of the class because it makes pickling unreliable\n",
    "\n",
    "def save(model, path, file_name):\n",
    "    print(f\"Saving the model to \\'{path}\\' folder\")\n",
    "    model = model.cpu()\n",
    "    os.makedirs(path, exist_ok=True)\n",
    "    model_path = os.path.join(path, file_name + '.pt') # File ending .pt for 'PyTorch' model\n",
    "    torch.save(model, model_path)\n",
    "    return model_path\n",
    "\n",
    "# def load(model, path):\n",
    "#     self = torch.load(path)\n",
    "\n",
    "save(model, path=\"models\", file_name=\"segmentation_unet\")"
   ]
  },
  {
   "cell_type": "code",
   "execution_count": null,
   "metadata": {},
   "outputs": [],
   "source": [
    "def visualizer(model, device, test_data):\n",
    "    num_example_imgs = 4\n",
    "    plt.figure(figsize=(20, 6))\n",
    "\n",
    "    for i, (img, target) in enumerate(test_data[:num_example_imgs]):\n",
    "        inputs = img.unsqueeze(0)\n",
    "        inputs = inputs.to(device)\n",
    "\n",
    "        outputs = model.forward(inputs)\n",
    "        _, preds = torch.max(outputs, dim=1)\n",
    "        pred = preds"
   ]
  },
  {
   "cell_type": "code",
   "execution_count": null,
   "metadata": {},
   "outputs": [
    {
     "ename": "TypeError",
     "evalue": "'PngImageFile' object is not subscriptable",
     "output_type": "error",
     "traceback": [
      "\u001b[1;31m---------------------------------------------------------------------------\u001b[0m",
      "\u001b[1;31mTypeError\u001b[0m                                 Traceback (most recent call last)",
      "\u001b[1;32mc:\\Users\\timmp\\Documents\\segmentation\\car_segmentation.ipynb Cell 26\u001b[0m line \u001b[0;36m1\n\u001b[1;32m----> <a href='vscode-notebook-cell:/c%3A/Users/timmp/Documents/segmentation/car_segmentation.ipynb#X34sZmlsZQ%3D%3D?line=0'>1</a>\u001b[0m visualizer(model, device, test_dataset)\n",
      "\u001b[1;32mc:\\Users\\timmp\\Documents\\segmentation\\car_segmentation.ipynb Cell 26\u001b[0m line \u001b[0;36m5\n\u001b[0;32m      <a href='vscode-notebook-cell:/c%3A/Users/timmp/Documents/segmentation/car_segmentation.ipynb#X34sZmlsZQ%3D%3D?line=1'>2</a>\u001b[0m num_example_imgs \u001b[39m=\u001b[39m \u001b[39m4\u001b[39m\n\u001b[0;32m      <a href='vscode-notebook-cell:/c%3A/Users/timmp/Documents/segmentation/car_segmentation.ipynb#X34sZmlsZQ%3D%3D?line=2'>3</a>\u001b[0m plt\u001b[39m.\u001b[39mfigure(figsize\u001b[39m=\u001b[39m(\u001b[39m20\u001b[39m, \u001b[39m6\u001b[39m))\n\u001b[1;32m----> <a href='vscode-notebook-cell:/c%3A/Users/timmp/Documents/segmentation/car_segmentation.ipynb#X34sZmlsZQ%3D%3D?line=4'>5</a>\u001b[0m \u001b[39mfor\u001b[39;00m i, (img, target) \u001b[39min\u001b[39;00m \u001b[39menumerate\u001b[39m(test_data[\u001b[39m0\u001b[39;49m:num_example_imgs]):\n\u001b[0;32m      <a href='vscode-notebook-cell:/c%3A/Users/timmp/Documents/segmentation/car_segmentation.ipynb#X34sZmlsZQ%3D%3D?line=5'>6</a>\u001b[0m     inputs \u001b[39m=\u001b[39m img\u001b[39m.\u001b[39munsqueeze(\u001b[39m0\u001b[39m)\n\u001b[0;32m      <a href='vscode-notebook-cell:/c%3A/Users/timmp/Documents/segmentation/car_segmentation.ipynb#X34sZmlsZQ%3D%3D?line=6'>7</a>\u001b[0m     inputs \u001b[39m=\u001b[39m inputs\u001b[39m.\u001b[39mto(device)\n",
      "\u001b[1;32mc:\\Users\\timmp\\Documents\\segmentation\\car_segmentation.ipynb Cell 26\u001b[0m line \u001b[0;36m4\n\u001b[0;32m     <a href='vscode-notebook-cell:/c%3A/Users/timmp/Documents/segmentation/car_segmentation.ipynb#X34sZmlsZQ%3D%3D?line=35'>36</a>\u001b[0m \u001b[39mdef\u001b[39;00m \u001b[39m__getitem__\u001b[39m(\u001b[39mself\u001b[39m, key) \u001b[39m-\u001b[39m\u001b[39m>\u001b[39m Tuple[Any, Any]:\n\u001b[0;32m     <a href='vscode-notebook-cell:/c%3A/Users/timmp/Documents/segmentation/car_segmentation.ipynb#X34sZmlsZQ%3D%3D?line=36'>37</a>\u001b[0m     \u001b[39mif\u001b[39;00m \u001b[39misinstance\u001b[39m(key, \u001b[39mslice\u001b[39m):\n\u001b[0;32m     <a href='vscode-notebook-cell:/c%3A/Users/timmp/Documents/segmentation/car_segmentation.ipynb#X34sZmlsZQ%3D%3D?line=37'>38</a>\u001b[0m         \u001b[39m# This will take the start, stop and step of the slice\u001b[39;00m\n\u001b[0;32m     <a href='vscode-notebook-cell:/c%3A/Users/timmp/Documents/segmentation/car_segmentation.ipynb#X34sZmlsZQ%3D%3D?line=38'>39</a>\u001b[0m         \u001b[39m# self[i] will return the below isinstance(key, int) logic\u001b[39;00m\n\u001b[1;32m---> <a href='vscode-notebook-cell:/c%3A/Users/timmp/Documents/segmentation/car_segmentation.ipynb#X34sZmlsZQ%3D%3D?line=39'>40</a>\u001b[0m         \u001b[39mreturn\u001b[39;00m [\u001b[39mself\u001b[39;49m[i] \u001b[39mfor\u001b[39;49;00m i \u001b[39min\u001b[39;49;00m \u001b[39mrange\u001b[39;49m(\u001b[39m*\u001b[39;49mkey\u001b[39m.\u001b[39;49mindices(\u001b[39mlen\u001b[39;49m(\u001b[39mself\u001b[39;49m)))]\n\u001b[0;32m     <a href='vscode-notebook-cell:/c%3A/Users/timmp/Documents/segmentation/car_segmentation.ipynb#X34sZmlsZQ%3D%3D?line=40'>41</a>\u001b[0m     \u001b[39melif\u001b[39;00m \u001b[39misinstance\u001b[39m(key, \u001b[39mint\u001b[39m):\n\u001b[0;32m     <a href='vscode-notebook-cell:/c%3A/Users/timmp/Documents/segmentation/car_segmentation.ipynb#X34sZmlsZQ%3D%3D?line=41'>42</a>\u001b[0m         raw \u001b[39m=\u001b[39m \u001b[39msuper\u001b[39m()\u001b[39m.\u001b[39m\u001b[39m__getitem__\u001b[39m(key)\n",
      "\u001b[1;32mc:\\Users\\timmp\\Documents\\segmentation\\car_segmentation.ipynb Cell 26\u001b[0m line \u001b[0;36m4\n\u001b[0;32m     <a href='vscode-notebook-cell:/c%3A/Users/timmp/Documents/segmentation/car_segmentation.ipynb#X34sZmlsZQ%3D%3D?line=35'>36</a>\u001b[0m \u001b[39mdef\u001b[39;00m \u001b[39m__getitem__\u001b[39m(\u001b[39mself\u001b[39m, key) \u001b[39m-\u001b[39m\u001b[39m>\u001b[39m Tuple[Any, Any]:\n\u001b[0;32m     <a href='vscode-notebook-cell:/c%3A/Users/timmp/Documents/segmentation/car_segmentation.ipynb#X34sZmlsZQ%3D%3D?line=36'>37</a>\u001b[0m     \u001b[39mif\u001b[39;00m \u001b[39misinstance\u001b[39m(key, \u001b[39mslice\u001b[39m):\n\u001b[0;32m     <a href='vscode-notebook-cell:/c%3A/Users/timmp/Documents/segmentation/car_segmentation.ipynb#X34sZmlsZQ%3D%3D?line=37'>38</a>\u001b[0m         \u001b[39m# This will take the start, stop and step of the slice\u001b[39;00m\n\u001b[0;32m     <a href='vscode-notebook-cell:/c%3A/Users/timmp/Documents/segmentation/car_segmentation.ipynb#X34sZmlsZQ%3D%3D?line=38'>39</a>\u001b[0m         \u001b[39m# self[i] will return the below isinstance(key, int) logic\u001b[39;00m\n\u001b[1;32m---> <a href='vscode-notebook-cell:/c%3A/Users/timmp/Documents/segmentation/car_segmentation.ipynb#X34sZmlsZQ%3D%3D?line=39'>40</a>\u001b[0m         \u001b[39mreturn\u001b[39;00m [\u001b[39mself\u001b[39;49m[i] \u001b[39mfor\u001b[39;00m i \u001b[39min\u001b[39;00m \u001b[39mrange\u001b[39m(\u001b[39m*\u001b[39mkey\u001b[39m.\u001b[39mindices(\u001b[39mlen\u001b[39m(\u001b[39mself\u001b[39m)))]\n\u001b[0;32m     <a href='vscode-notebook-cell:/c%3A/Users/timmp/Documents/segmentation/car_segmentation.ipynb#X34sZmlsZQ%3D%3D?line=40'>41</a>\u001b[0m     \u001b[39melif\u001b[39;00m \u001b[39misinstance\u001b[39m(key, \u001b[39mint\u001b[39m):\n\u001b[0;32m     <a href='vscode-notebook-cell:/c%3A/Users/timmp/Documents/segmentation/car_segmentation.ipynb#X34sZmlsZQ%3D%3D?line=41'>42</a>\u001b[0m         raw \u001b[39m=\u001b[39m \u001b[39msuper\u001b[39m()\u001b[39m.\u001b[39m\u001b[39m__getitem__\u001b[39m(key)\n",
      "\u001b[1;32mc:\\Users\\timmp\\Documents\\segmentation\\car_segmentation.ipynb Cell 26\u001b[0m line \u001b[0;36m4\n\u001b[0;32m     <a href='vscode-notebook-cell:/c%3A/Users/timmp/Documents/segmentation/car_segmentation.ipynb#X34sZmlsZQ%3D%3D?line=40'>41</a>\u001b[0m \u001b[39melif\u001b[39;00m \u001b[39misinstance\u001b[39m(key, \u001b[39mint\u001b[39m):\n\u001b[0;32m     <a href='vscode-notebook-cell:/c%3A/Users/timmp/Documents/segmentation/car_segmentation.ipynb#X34sZmlsZQ%3D%3D?line=41'>42</a>\u001b[0m     raw \u001b[39m=\u001b[39m \u001b[39msuper\u001b[39m()\u001b[39m.\u001b[39m\u001b[39m__getitem__\u001b[39m(key)\n\u001b[0;32m     <a href='vscode-notebook-cell:/c%3A/Users/timmp/Documents/segmentation/car_segmentation.ipynb#X34sZmlsZQ%3D%3D?line=42'>43</a>\u001b[0m     data \u001b[39m=\u001b[39m (\n\u001b[0;32m     <a href='vscode-notebook-cell:/c%3A/Users/timmp/Documents/segmentation/car_segmentation.ipynb#X34sZmlsZQ%3D%3D?line=43'>44</a>\u001b[0m         \u001b[39mself\u001b[39m\u001b[39m.\u001b[39mto_tensor(\n\u001b[0;32m     <a href='vscode-notebook-cell:/c%3A/Users/timmp/Documents/segmentation/car_segmentation.ipynb#X34sZmlsZQ%3D%3D?line=44'>45</a>\u001b[0m             raw[\u001b[39m0\u001b[39m]\u001b[39m.\u001b[39mresize((\u001b[39mself\u001b[39m\u001b[39m.\u001b[39mscaled_w, \u001b[39mself\u001b[39m\u001b[39m.\u001b[39mscaled_h), Resampling\u001b[39m.\u001b[39mNEAREST)\n\u001b[0;32m     <a href='vscode-notebook-cell:/c%3A/Users/timmp/Documents/segmentation/car_segmentation.ipynb#X34sZmlsZQ%3D%3D?line=45'>46</a>\u001b[0m         ),\n\u001b[0;32m     <a href='vscode-notebook-cell:/c%3A/Users/timmp/Documents/segmentation/car_segmentation.ipynb#X34sZmlsZQ%3D%3D?line=46'>47</a>\u001b[0m         (\n\u001b[0;32m     <a href='vscode-notebook-cell:/c%3A/Users/timmp/Documents/segmentation/car_segmentation.ipynb#X34sZmlsZQ%3D%3D?line=47'>48</a>\u001b[0m             torch\u001b[39m.\u001b[39mfrom_numpy(np\u001b[39m.\u001b[39marray(\n\u001b[1;32m---> <a href='vscode-notebook-cell:/c%3A/Users/timmp/Documents/segmentation/car_segmentation.ipynb#X34sZmlsZQ%3D%3D?line=48'>49</a>\u001b[0m                 raw[\u001b[39m1\u001b[39;49m][\u001b[39m0\u001b[39;49m]\u001b[39m.\u001b[39mresize(\n\u001b[0;32m     <a href='vscode-notebook-cell:/c%3A/Users/timmp/Documents/segmentation/car_segmentation.ipynb#X34sZmlsZQ%3D%3D?line=49'>50</a>\u001b[0m                     (\u001b[39mself\u001b[39m\u001b[39m.\u001b[39mscaled_w, \u001b[39mself\u001b[39m\u001b[39m.\u001b[39mscaled_h), Resampling\u001b[39m.\u001b[39mNEAREST\n\u001b[0;32m     <a href='vscode-notebook-cell:/c%3A/Users/timmp/Documents/segmentation/car_segmentation.ipynb#X34sZmlsZQ%3D%3D?line=50'>51</a>\u001b[0m                 ), dtype\u001b[39m=\u001b[39mnp\u001b[39m.\u001b[39mint64\n\u001b[0;32m     <a href='vscode-notebook-cell:/c%3A/Users/timmp/Documents/segmentation/car_segmentation.ipynb#X34sZmlsZQ%3D%3D?line=51'>52</a>\u001b[0m             )),\n\u001b[0;32m     <a href='vscode-notebook-cell:/c%3A/Users/timmp/Documents/segmentation/car_segmentation.ipynb#X34sZmlsZQ%3D%3D?line=52'>53</a>\u001b[0m             torch\u001b[39m.\u001b[39mfrom_numpy(np\u001b[39m.\u001b[39marray(\n\u001b[0;32m     <a href='vscode-notebook-cell:/c%3A/Users/timmp/Documents/segmentation/car_segmentation.ipynb#X34sZmlsZQ%3D%3D?line=53'>54</a>\u001b[0m                 raw[\u001b[39m1\u001b[39m][\u001b[39m1\u001b[39m]\u001b[39m.\u001b[39mresize(\n\u001b[0;32m     <a href='vscode-notebook-cell:/c%3A/Users/timmp/Documents/segmentation/car_segmentation.ipynb#X34sZmlsZQ%3D%3D?line=54'>55</a>\u001b[0m                     (\u001b[39mself\u001b[39m\u001b[39m.\u001b[39mscaled_w, \u001b[39mself\u001b[39m\u001b[39m.\u001b[39mscaled_h), Resampling\u001b[39m.\u001b[39mNEAREST\n\u001b[0;32m     <a href='vscode-notebook-cell:/c%3A/Users/timmp/Documents/segmentation/car_segmentation.ipynb#X34sZmlsZQ%3D%3D?line=55'>56</a>\u001b[0m                 ), dtype\u001b[39m=\u001b[39mnp\u001b[39m.\u001b[39mint64\n\u001b[0;32m     <a href='vscode-notebook-cell:/c%3A/Users/timmp/Documents/segmentation/car_segmentation.ipynb#X34sZmlsZQ%3D%3D?line=56'>57</a>\u001b[0m             )),\n\u001b[0;32m     <a href='vscode-notebook-cell:/c%3A/Users/timmp/Documents/segmentation/car_segmentation.ipynb#X34sZmlsZQ%3D%3D?line=57'>58</a>\u001b[0m         ),\n\u001b[0;32m     <a href='vscode-notebook-cell:/c%3A/Users/timmp/Documents/segmentation/car_segmentation.ipynb#X34sZmlsZQ%3D%3D?line=58'>59</a>\u001b[0m     )\n\u001b[0;32m     <a href='vscode-notebook-cell:/c%3A/Users/timmp/Documents/segmentation/car_segmentation.ipynb#X34sZmlsZQ%3D%3D?line=59'>60</a>\u001b[0m     \u001b[39mreturn\u001b[39;00m data\n\u001b[0;32m     <a href='vscode-notebook-cell:/c%3A/Users/timmp/Documents/segmentation/car_segmentation.ipynb#X34sZmlsZQ%3D%3D?line=60'>61</a>\u001b[0m \u001b[39melse\u001b[39;00m:\n",
      "\u001b[1;31mTypeError\u001b[0m: 'PngImageFile' object is not subscriptable"
     ]
    },
    {
     "data": {
      "text/plain": [
       "<Figure size 2000x600 with 0 Axes>"
      ]
     },
     "metadata": {},
     "output_type": "display_data"
    }
   ],
   "source": [
    "visualizer(model, device, test_dataset)\n"
   ]
  }
 ],
 "metadata": {
  "kernelspec": {
   "display_name": "pytorch_dl",
   "language": "python",
   "name": "python3"
  },
  "language_info": {
   "codemirror_mode": {
    "name": "ipython",
    "version": 3
   },
   "file_extension": ".py",
   "mimetype": "text/x-python",
   "name": "python",
   "nbconvert_exporter": "python",
   "pygments_lexer": "ipython3",
   "version": "3.10.13"
  },
  "orig_nbformat": 4
 },
 "nbformat": 4,
 "nbformat_minor": 2
}
