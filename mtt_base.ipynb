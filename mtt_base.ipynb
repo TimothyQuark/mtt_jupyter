{
 "cells": [
  {
   "cell_type": "markdown",
   "metadata": {},
   "source": [
    "# TODO\n",
    "- Implement ConvNet model\n",
    "- Implement loading of CIFAR10 dataset\n",
    "- Write training scheme for the buffer\n",
    "- Write training scheme for the distillation\n",
    "- When halfway through training epochs, cut lr by half like in MTT paper\n",
    "- The giant bottleneck in this model is the time wasted on `__getitem__`: applying transforms and endless calls to this function takes up 72% (!!!) of all time spent during training, which is obscene (in comparison, it takes 20ms for a single batch forward pass thanks to CUDA, or 5000/256 * 20 = 390ms for one epoch, compared to about 6s doing transforms). For normalization, this is something that can easily be done on the dataset during initialization, and have to check, but I think MTT doesn't do random transforms doing training of the expert trajectories. It may be worth just doing something like in the MTT repo, lines 38-60 in buffer.py, they seem to have had the same problem.\n"
   ]
  },
  {
   "cell_type": "markdown",
   "metadata": {},
   "source": [
    "# Dataset Distillation by Matching Training Trajectories\n",
    "\n",
    "Implementation of the MTT method, based on the [code by the paper's authors](https://github.com/GeorgeCazenavette/mtt-distillation/tree/main). This implementation uses Jupyter notebooks to visualize the model, and is also not dependent on any online services like in the original implementation.\n",
    "\n",
    "- Model used: ConvNet (as implemented by the MTT paper)\n",
    "- Dataset used: CIFAR10, CIFAR100\n",
    "\n",
    "To get started, you can run the notebook as is, or modify settings the User Settings section.\n"
   ]
  },
  {
   "cell_type": "markdown",
   "metadata": {},
   "source": [
    "## Setup\n",
    "\n",
    "The following cells will import important packages, configure devices, load TensorBoard etc"
   ]
  },
  {
   "cell_type": "code",
   "execution_count": 1,
   "metadata": {},
   "outputs": [],
   "source": [
    "import sys\n",
    "import os\n",
    "from typing import Any, Callable, Tuple, Dict, List, Optional, Union\n",
    "import numpy as np\n",
    "import torch\n",
    "import torch.nn as nn\n",
    "from torch import Tensor\n",
    "import matplotlib.pyplot as plt\n",
    "\n",
    "from src.train_experts import print_line, init_logger, set_device"
   ]
  },
  {
   "cell_type": "code",
   "execution_count": 2,
   "metadata": {},
   "outputs": [
    {
     "name": "stdout",
     "output_type": "stream",
     "text": [
      "device being used: cuda\n"
     ]
    }
   ],
   "source": [
    "# Set up device\n",
    "device = set_device()\n",
    "print(f\"device being used: {device}\")"
   ]
  },
  {
   "cell_type": "code",
   "execution_count": 3,
   "metadata": {},
   "outputs": [],
   "source": [
    "# Set up Matplotlib so that it properly visualizes inside Jupyter notebook using VSCode\n",
    "\n",
    "plt.rcParams[\"figure.figsize\"] = (10.0, 8.0)  # set default size of plots\n",
    "plt.rcParams[\"image.interpolation\"] = \"nearest\"\n",
    "plt.rcParams[\"image.cmap\"] = \"gray\""
   ]
  },
  {
   "cell_type": "code",
   "execution_count": 4,
   "metadata": {},
   "outputs": [],
   "source": [
    "# Some small fixes to prevent Jupyter from bugging out\n",
    "\n",
    "# for auto-reloading external modules\n",
    "# see http://stackoverflow.com/questions/1907993/autoreload-of-modules-in-ipython\n",
    "%load_ext autoreload\n",
    "%autoreload 2\n",
    "\n",
    "# To prevent the kernel from dying.\n",
    "os.environ['KMP_DUPLICATE_LIB_OK'] = 'True'\n"
   ]
  },
  {
   "cell_type": "code",
   "execution_count": 5,
   "metadata": {},
   "outputs": [
    {
     "data": {
      "text/html": [
       "\n",
       "      <iframe id=\"tensorboard-frame-ae6e317668db4e06\" width=\"100%\" height=\"800\" frameborder=\"0\">\n",
       "      </iframe>\n",
       "      <script>\n",
       "        (function() {\n",
       "          const frame = document.getElementById(\"tensorboard-frame-ae6e317668db4e06\");\n",
       "          const url = new URL(\"/\", window.location);\n",
       "          const port = 6006;\n",
       "          if (port) {\n",
       "            url.port = port;\n",
       "          }\n",
       "          frame.src = url;\n",
       "        })();\n",
       "      </script>\n",
       "    "
      ],
      "text/plain": [
       "<IPython.core.display.HTML object>"
      ]
     },
     "metadata": {},
     "output_type": "display_data"
    }
   ],
   "source": [
    "# Set up TensorBoard\n",
    "\n",
    "\"\"\" Notes on superbuggy VSCode tensorboard\n",
    "\n",
    "The general conclusion is that Tensorboard in VSCode breaks regularly for whatever reasons, and nobody\n",
    "cares to fix it. So just use Tensboard from the browser. Code below will run tensorboard on port 6006\n",
    "\n",
    "For some reason tensorboard isn't quitting properly, and keeps the port occupied even\n",
    "if the process itself is killed. Maybe it will be patched someday...\n",
    "\n",
    "1. Check Code Python Interpreter is correct\n",
    "\n",
    "2. Check if port occupied:\n",
    "lsof -i:6006\n",
    "\n",
    "Kill using the PID from above command (not 6006, the PID!):\n",
    "kill PID\n",
    "\n",
    "See https://stackoverflow.com/questions/54395201/tensorboard-could-not-bind-to-port-6006-it-was-already-in-use\n",
    "Also, see this on how to kill tensorboard process (but not the problem here): https://stackoverflow.com/questions/36896164/tensorflow-how-to-close-tensorboard-server\n",
    "\n",
    "3. Alternative if you want to see tensorboard in a webbrowser (6006, 8888 etc):\n",
    "tensorboard --logdir=data/ --host localhost --port 6006\n",
    "http//localhost:6006\n",
    "\n",
    "Another possible bug is that installing tensorboard with conda is not visible in Jupyter Notebooks using VSCode. You will have to reinstall it using pip instead\n",
    "\n",
    "\"\"\"\n",
    "\n",
    "%load_ext tensorboard\n",
    "%reload_ext tensorboard\n",
    "%tensorboard --logdir=logs/ --port 6006"
   ]
  },
  {
   "cell_type": "markdown",
   "metadata": {},
   "source": [
    "# User Settings\n",
    "\n",
    "Here you can define the most important aspects of the notebook."
   ]
  },
  {
   "cell_type": "code",
   "execution_count": 6,
   "metadata": {},
   "outputs": [],
   "source": [
    "from torchvision.datasets import CIFAR10, CIFAR100\n",
    "\n",
    "# User settings:\n",
    "settings: dict[str, Any] = {\n",
    "    \"dataset\": \"CIFAR10\",  # [CIFAR10, CIFAR100]\n",
    "    \"model\": \"ConvNet\",  # [ConvNet, ResNet]\n",
    "    \"ZCA\": False,  # [True, False]\n",
    "}\n",
    "\n",
    "\n",
    "# Hyperparameters\n",
    "hparams: dict[str, Any] = {\n",
    "    # General hyperparameters\n",
    "    \"device\": device,\n",
    "    \"num_workers\": 16,\n",
    "    \"epochs\": 50,\n",
    "    \"batch_size\": 256,\n",
    "    \"max_patience\": 3,\n",
    "    \"learning_rate\": 0.01,\n",
    "    \"weight_decay\": 0.0,\n",
    "    \"momentum\": 0.0,\n",
    "    # Model specific hyperparameters\n",
    "    \"img_shape\": (3, 32, 32),  # C x H x W\n",
    "    \"out_channels\": 10,  # Number of output channels (e.g. 100 for CIFAR100)\n",
    "    \"net_depth\": 3,  # Number of Conv layers (excluding helper layers and additional linear layer)\n",
    "    \"net_width\": 128,  # Number of kernels in each Conv layer\n",
    "    \"kernel_size\": 3,  # Dimensions of the kernels (H * W)\n",
    "    \"padding\": 1,  # Conv layer padding\n",
    "    \"activation\": nn.ReLU(inplace=True),  # Activation function\n",
    "    \"norm\": nn.GroupNorm(\n",
    "        num_groups=128, num_channels=128, affine=True\n",
    "    ),  # Normalization technique\n",
    "    \"pooling\": nn.AvgPool2d(kernel_size=2, stride=2),  # Pooling method\n",
    "    \"optimizer\": \"SGD\",  # Optimizer to use for training\n",
    "}"
   ]
  },
  {
   "cell_type": "markdown",
   "metadata": {},
   "source": [
    "# Download and prepare dataset\n",
    "\n",
    "The models used in this notebook are already provided by PyTorch itself, so we can simply download and modify them. However, the PyTorch class not accept slice indexes, so we will have to write our own little version on top of it which fixes the __getitem__ method. That way, we can do something like train_dataset[0:3] and not just train_dataset[1],"
   ]
  },
  {
   "cell_type": "code",
   "execution_count": 7,
   "metadata": {},
   "outputs": [],
   "source": []
  },
  {
   "cell_type": "code",
   "execution_count": 8,
   "metadata": {},
   "outputs": [
    {
     "name": "stdout",
     "output_type": "stream",
     "text": [
      "Loading training dataset (CIFAR10)\n",
      "Files already downloaded and verified\n",
      "Loading testing dataset (CIFAR10)\n",
      "Files already downloaded and verified\n"
     ]
    }
   ],
   "source": [
    "\n",
    "\n",
    "train_dataset = None\n",
    "test_dataset = None\n",
    "\n",
    "\n",
    "assert train_dataset != None and test_dataset != None"
   ]
  },
  {
   "cell_type": "code",
   "execution_count": 9,
   "metadata": {},
   "outputs": [
    {
     "name": "stdout",
     "output_type": "stream",
     "text": [
      "Training set size: 50000\n",
      "Test set size: 10000\n",
      "Image dimensions: torch.Size([3, 32, 32])\n",
      "Target type: <class 'int'>\n"
     ]
    }
   ],
   "source": [
    "# Show some basic information about the dataset\n",
    "\n"
   ]
  },
  {
   "cell_type": "code",
   "execution_count": 10,
   "metadata": {},
   "outputs": [],
   "source": [
    "# Function to visualize data\n",
    "\n",
    "# TODO: use torch.tensor.view instead of transpose when possible\n",
    "\n",
    "\n"
   ]
  },
  {
   "cell_type": "code",
   "execution_count": 11,
   "metadata": {},
   "outputs": [
    {
     "name": "stderr",
     "output_type": "stream",
     "text": [
      "Clipping input data to the valid range for imshow with RGB data ([0..1] for floats or [0..255] for integers).\n",
      "Clipping input data to the valid range for imshow with RGB data ([0..1] for floats or [0..255] for integers).\n",
      "Clipping input data to the valid range for imshow with RGB data ([0..1] for floats or [0..255] for integers).\n"
     ]
    },
    {
     "data": {
      "image/png": "[encoded data removed]",
      "text/plain": [
       "<Figure size 2000x900 with 3 Axes>"
      ]
     },
     "metadata": {},
     "output_type": "display_data"
    }
   ],
   "source": [
    "# Show some of the dataset. Note that normalization means the values are no longer in the range of 0-1, so\n",
    "# there will be clipping warnings.\n",
    "\n",
    "ex_imgs = train_dataset[0:3]\n",
    "\n",
    "visualize_imgs(ex_imgs)"
   ]
  },
  {
   "cell_type": "markdown",
   "metadata": {},
   "source": [
    "TODO:\n",
    "\n",
    "- Create model\n",
    "- Create tensor that uses one hot encoding for ids, not just a flat image\n",
    "- Use a UNet\n",
    "- Create trainer (use dataloader, load to device)\n",
    "- Use a good loss function"
   ]
  },
  {
   "cell_type": "markdown",
   "metadata": {},
   "source": [
    "# Design of Model"
   ]
  },
  {
   "cell_type": "code",
   "execution_count": 12,
   "metadata": {},
   "outputs": [],
   "source": [
    "# Helper Classes for our model\n",
    "\n",
    "\n"
   ]
  },
  {
   "cell_type": "code",
   "execution_count": 13,
   "metadata": {},
   "outputs": [],
   "source": [
    "# ConvNet"
   ]
  },
  {
   "cell_type": "code",
   "execution_count": 14,
   "metadata": {},
   "outputs": [],
   "source": [
    "# # Encoder and Decoder\n",
    "\n",
    "# \"\"\"\n",
    "# TODO:\n",
    "# - Optimizer only train encoder or decoder\n",
    "# - Make my own model\n",
    "# - Use PyTorch optimizations from their guide\n",
    "# \"\"\"\n",
    "\n",
    "\n",
    "# class SegmentationNN(nn.Module):\n",
    "#     def __init__(self, hparams):\n",
    "#         super().__init__()\n",
    "#         self.hp = hparams\n",
    "#         self.kernel_factor = self.hp[\n",
    "#             \"kernel_factor\"\n",
    "#         ]  # Reuse this value often, so don't search a Dict\n",
    "\n",
    "#         \"\"\"\"\n",
    "#         General structure of the model:\n",
    "\n",
    "#         - encoder_block downsamples inputs and learns key features. Intermediate outputs are stored\n",
    "#         and used by the decoder block\n",
    "#         - decoder_block: Upsamples the low dimensional outputs of the encoder_block, essentially\n",
    "#         'learns' how things should look, and reconstructs the full segmented image\n",
    "#         - classifier\n",
    "#         \"\"\"\n",
    "#         self.encoder = nn.ModuleList(\n",
    "#             [\n",
    "#                 ConvSandwich(\n",
    "#                     3, self.kernel_factor, 3, 1, 1\n",
    "#                 ),  # RGB image input has 3 channels\n",
    "#                 ConvSandwich(self.kernel_factor, self.kernel_factor * 2, 3, 1, 1),\n",
    "#                 ConvSandwich(self.kernel_factor * 2, self.kernel_factor * 4, 3, 1, 1),\n",
    "#                 ConvSandwich(self.kernel_factor * 4, self.kernel_factor * 4, 3, 1, 1),\n",
    "#                 ConvSandwich(self.kernel_factor * 4, self.kernel_factor * 8, 3, 1, 1),\n",
    "#             ]\n",
    "#         )\n",
    "\n",
    "#         self.decoder = nn.ModuleList(\n",
    "#             [\n",
    "#                 ConvSandwich(\n",
    "#                     self.kernel_factor * (8 + 8), self.kernel_factor * 4, 3, 1, 1\n",
    "#                 ),\n",
    "#                 ConvSandwich(\n",
    "#                     self.kernel_factor * (4 + 4), self.kernel_factor * 4, 3, 1, 1\n",
    "#                 ),\n",
    "#                 ConvSandwich(\n",
    "#                     self.kernel_factor * (4 + 4), self.kernel_factor * 2, 3, 1, 1\n",
    "#                 ),\n",
    "#                 ConvSandwich(self.kernel_factor * (2 + 2), self.kernel_factor, 3, 1, 1),\n",
    "#             ]\n",
    "#         )\n",
    "\n",
    "#         self.classifier = nn.Conv2d(\n",
    "#             self.kernel_factor * 2 + 3, self.hp[\"output_size\"], kernel_size=3, padding=1\n",
    "#         )\n",
    "\n",
    "#         self.downsample = nn.MaxPool2d(\n",
    "#             kernel_size=2, stride=2\n",
    "#         )  # Layer reused for downsampling\n",
    "#         self.upsample = nn.Upsample(\n",
    "#             scale_factor=2, mode=\"bicubic\"\n",
    "#         )  # Layer reused for upsampling\n",
    "\n",
    "#         # self.print = PrintLayer()  # Used for debugging\n",
    "\n",
    "#         # We want the model to be stored on GPU if possible\n",
    "#         self.device = hparams.get(\n",
    "#             \"device\", torch.device(\"cuda\" if torch.cuda.is_available() else \"cpu\")\n",
    "#         )\n",
    "#         self.set_optimizer()\n",
    "\n",
    "#         # Apply initial weights\n",
    "#         self.encoder.apply(weights_init)\n",
    "#         self.decoder.apply(weights_init)\n",
    "#         self.classifier.apply(weights_init)\n",
    "\n",
    "#     def forward(self, x):\n",
    "#         # Unet network\n",
    "\n",
    "#         # Note: need to use multiples of 2 or else rounding makes torch.cat try to concat tensors\n",
    "#         # of different sizes\n",
    "\n",
    "#         proc_x = self.encoder[0](x)\n",
    "#         enc_1 = self.encoder[1](proc_x)\n",
    "#         tmp = self.downsample(enc_1)\n",
    "#         enc_2 = self.encoder[2](tmp)\n",
    "#         tmp = self.downsample(enc_2)\n",
    "#         enc_3 = self.encoder[3](tmp)\n",
    "#         tmp = self.downsample(enc_3)\n",
    "#         enc_4 = self.encoder[4](tmp)\n",
    "\n",
    "#         bottleneck = self.downsample(enc_4)\n",
    "\n",
    "#         tmp = self.upsample(bottleneck)\n",
    "#         dec = self.decoder[0](torch.cat([tmp, enc_4], dim=1))\n",
    "#         tmp = self.upsample(dec)\n",
    "#         dec = self.decoder[1](torch.cat([tmp, enc_3], dim=1))\n",
    "#         tmp = self.upsample(dec)\n",
    "#         dec = self.decoder[2](torch.cat([tmp, enc_2], dim=1))\n",
    "#         tmp = self.upsample(dec)\n",
    "#         dec = self.decoder[3](torch.cat([tmp, enc_1], dim=1))\n",
    "#         tmp = self.upsample(dec)\n",
    "\n",
    "#         dec = torch.cat([dec, proc_x], dim=1)\n",
    "#         dec = torch.cat([dec, x], dim=1)\n",
    "#         x = self.classifier(dec)\n",
    "\n",
    "#         return x\n",
    "\n",
    "#     def set_optimizer(self):\n",
    "#         self.optimizer = None\n",
    "\n",
    "#         self.optimizer = torch.optim.Adam(\n",
    "#             self.parameters(),\n",
    "#             lr=self.hp[\"learning_rate\"],\n",
    "#             weight_decay=self.hp[\"weight_decay\"],\n",
    "#         )\n",
    "\n",
    "#     def training_step(self, batch, loss_func):\n",
    "#         self.train()\n",
    "#         self.optimizer.zero_grad()  # Reset gradient every batch\n",
    "\n",
    "#         # N = batch size, C = channels (3 for RGB), H = image height, W = image width\n",
    "#         images = batch[0].to(self.device)  # Input batch, N x C x H x W\n",
    "#         target = (\n",
    "#             batch[1][0].to(self.device).squeeze()\n",
    "#         )  # Ground truth, each pixel assigned an ID int. N x H x W\n",
    "\n",
    "#         # Model makes prediction (forward pass)\n",
    "#         pred = self.forward(images)  # N x C x H x W (C=num of CityScape classes)\n",
    "\n",
    "#         # Calculate loss, do backward pass to update weights, optimizer takes step\n",
    "#         # torch.nn.CrossEntropyLoss(ignore_index=0, reduction=\"mean\") wants target to be of type long, not float\n",
    "#         loss = loss_func(pred, target)\n",
    "#         loss.backward()\n",
    "#         self.optimizer.step()\n",
    "\n",
    "#         return loss\n",
    "\n",
    "#     def validation_step(self, batch, loss_func):\n",
    "#         loss = 0\n",
    "\n",
    "#         # Set model to eval\n",
    "#         self.eval()\n",
    "\n",
    "#         with torch.no_grad():\n",
    "#             images = batch[0].to(self.device)  # Input batch, N x C x H x W\n",
    "#             target = (\n",
    "#                 batch[1][0].to(self.device).squeeze()\n",
    "#             )  # Ground truth, each pixel assigned an ID int. N x H x W\n",
    "\n",
    "#             pred = self.forward(images)\n",
    "#             loss = loss_func(pred, target)\n",
    "\n",
    "#         return loss"
   ]
  },
  {
   "cell_type": "markdown",
   "metadata": {},
   "source": [
    "# Train Model"
   ]
  },
  {
   "cell_type": "code",
   "execution_count": 15,
   "metadata": {},
   "outputs": [],
   "source": [
    "# Hyperparameters\n",
    "# TODO: play around more with parameters to see if there is better solution"
   ]
  },
  {
   "cell_type": "markdown",
   "metadata": {},
   "source": [
    "Since this is just for demonstration purposes, let us make sure the model is not too big. We want to be able to run it on something like a CPU even if we don't have access to a GPU! A parameter size of 25MB seems to be good enough to get this model working on a mid tier desktop CPU."
   ]
  },
  {
   "cell_type": "code",
   "execution_count": 16,
   "metadata": {},
   "outputs": [
    {
     "data": {
      "text/plain": [
       "==========================================================================================\n",
       "Layer (type:depth-idx)                   Output Shape              Param #\n",
       "==========================================================================================\n",
       "ConvNet                                  [256, 10]                 --\n",
       "├─Sequential: 1-1                        [256, 128, 4, 4]          --\n",
       "│    └─ConvSandwich: 2-1                 [256, 128, 16, 16]        --\n",
       "│    │    └─Sequential: 3-1              [256, 128, 16, 16]        3,840\n",
       "│    └─ConvSandwich: 2-4                 --                        (recursive)\n",
       "│    │    └─Sequential: 3-4              --                        (recursive)\n",
       "│    └─ConvSandwich: 2-3                 [256, 128, 8, 8]          --\n",
       "│    │    └─Sequential: 3-3              [256, 128, 8, 8]          147,840\n",
       "│    └─ConvSandwich: 2-4                 --                        (recursive)\n",
       "│    │    └─Sequential: 3-4              --                        (recursive)\n",
       "│    └─ConvSandwich: 2-5                 [256, 128, 4, 4]          --\n",
       "│    │    └─Sequential: 3-5              [256, 128, 4, 4]          147,840\n",
       "├─Linear: 1-2                            [256, 10]                 20,490\n",
       "==========================================================================================\n",
       "Total params: 320,266\n",
       "Trainable params: 320,266\n",
       "Non-trainable params: 0\n",
       "Total mult-adds (Units.GIGABYTES): 13.04\n",
       "==========================================================================================\n",
       "Input size (MB): 3.15\n",
       "Forward/backward pass size (MB): 704.66\n",
       "Params size (MB): 1.28\n",
       "Estimated Total Size (MB): 709.09\n",
       "=========================================================================================="
      ]
     },
     "execution_count": 16,
     "metadata": {},
     "output_type": "execute_result"
    }
   ],
   "source": [
    "from torchinfo import summary\n",
    "\n",
    "model = ConvNet(hparams=hparams)\n",
    "summary(\n",
    "    model,\n",
    "    input_size=(\n",
    "        model.hp[\"batch_size\"],\n",
    "        model.hp[\"img_shape\"][0],\n",
    "        model.hp[\"img_shape\"][1],\n",
    "        model.hp[\"img_shape\"][2],\n",
    "    ),\n",
    ")"
   ]
  },
  {
   "cell_type": "code",
   "execution_count": 17,
   "metadata": {},
   "outputs": [],
   "source": [
    "# For debugging CUDA\n",
    "\n",
    "# print(torch.cuda.memory_allocated() / 1000**2)\n",
    "# print(torch.cuda.memory_reserved() / 1024**2)\n",
    "\n",
    "# torch.cuda.memory._dump_snapshot(\"debug/pretraining_memory_usage.pickle\")"
   ]
  },
  {
   "cell_type": "code",
   "execution_count": 18,
   "metadata": {},
   "outputs": [],
   "source": [
    "import torch\n",
    "\n",
    "# Train model\n",
    "\n"
   ]
  },
  {
   "cell_type": "markdown",
   "metadata": {},
   "source": [
    "We do not want to use the dataset object directly during training, as this is slow. Instead, PyTorch provides a DataLoader class that speeds stuff up when we use batches of data. It even shuffles our training data for us!"
   ]
  },
  {
   "cell_type": "code",
   "execution_count": 19,
   "metadata": {},
   "outputs": [
    {
     "name": "stderr",
     "output_type": "stream",
     "text": [
      "Training Epoch [1/50]: 100%|██████████████████████████████████████████████████| 196/196 [00:09<00:00, 20.25it/s, lr=0.01000000, train_loss=1.73086250]\n",
      "Training Epoch [2/50]:  33%|████████████████▋                                  | 64/196 [00:03<00:06, 20.59it/s, lr=0.01000000, train_loss=1.46048472]\n"
     ]
    },
    {
     "ename": "KeyboardInterrupt",
     "evalue": "",
     "output_type": "error",
     "traceback": [
      "\u001b[0;31m---------------------------------------------------------------------------\u001b[0m",
      "\u001b[0;31mKeyboardInterrupt\u001b[0m                         Traceback (most recent call last)",
      "Cell \u001b[0;32mIn[19], line 21\u001b[0m\n\u001b[1;32m     19\u001b[0m epochs \u001b[38;5;241m=\u001b[39m hparams\u001b[38;5;241m.\u001b[39mget(\u001b[38;5;124m\"\u001b[39m\u001b[38;5;124mepochs\u001b[39m\u001b[38;5;124m\"\u001b[39m, \u001b[38;5;241m5\u001b[39m)\n\u001b[1;32m     20\u001b[0m loss_func \u001b[38;5;241m=\u001b[39m torch\u001b[38;5;241m.\u001b[39mnn\u001b[38;5;241m.\u001b[39mCrossEntropyLoss(ignore_index\u001b[38;5;241m=\u001b[39m\u001b[38;5;241m0\u001b[39m, reduction\u001b[38;5;241m=\u001b[39m\u001b[38;5;124m\"\u001b[39m\u001b[38;5;124mmean\u001b[39m\u001b[38;5;124m\"\u001b[39m)\n\u001b[0;32m---> 21\u001b[0m train_model(\n\u001b[1;32m     22\u001b[0m     model,\n\u001b[1;32m     23\u001b[0m     train_loader,\n\u001b[1;32m     24\u001b[0m     \u001b[38;5;28;01mNone\u001b[39;00m,\n\u001b[1;32m     25\u001b[0m     loss_func,\n\u001b[1;32m     26\u001b[0m     tb_logger,\n\u001b[1;32m     27\u001b[0m     epochs\u001b[38;5;241m=\u001b[39mepochs,\n\u001b[1;32m     28\u001b[0m     name\u001b[38;5;241m=\u001b[39m\u001b[38;5;124m\"\u001b[39m\u001b[38;5;124mmtt-expert\u001b[39m\u001b[38;5;124m\"\u001b[39m,\n\u001b[1;32m     29\u001b[0m )\n",
      "Cell \u001b[0;32mIn[18], line 33\u001b[0m, in \u001b[0;36mtrain_model\u001b[0;34m(model, train_loader, val_loader, loss_func, tb_logger, epochs, name)\u001b[0m\n\u001b[1;32m     31\u001b[0m training_loss \u001b[38;5;241m=\u001b[39m \u001b[38;5;241m0\u001b[39m\n\u001b[1;32m     32\u001b[0m \u001b[38;5;28;01mfor\u001b[39;00m train_iter, batch \u001b[38;5;129;01min\u001b[39;00m training_loop:\n\u001b[0;32m---> 33\u001b[0m     loss \u001b[38;5;241m=\u001b[39m model\u001b[38;5;241m.\u001b[39mtraining_step(batch, loss_func)\n\u001b[1;32m     34\u001b[0m     training_loss \u001b[38;5;241m+\u001b[39m\u001b[38;5;241m=\u001b[39m loss\u001b[38;5;241m.\u001b[39mitem()\n\u001b[1;32m     35\u001b[0m     scheduler\u001b[38;5;241m.\u001b[39mstep()\n",
      "Cell \u001b[0;32mIn[13], line 64\u001b[0m, in \u001b[0;36mConvNet.training_step\u001b[0;34m(self, batch, loss_func)\u001b[0m\n\u001b[1;32m     61\u001b[0m \u001b[38;5;28mself\u001b[39m\u001b[38;5;241m.\u001b[39moptimizer\u001b[38;5;241m.\u001b[39mzero_grad()  \u001b[38;5;66;03m# Reset gradient every batch\u001b[39;00m\n\u001b[1;32m     63\u001b[0m \u001b[38;5;66;03m# N = batch size, C = channels (3 for RGB), H = image height, W = image width\u001b[39;00m\n\u001b[0;32m---> 64\u001b[0m images \u001b[38;5;241m=\u001b[39m batch[\u001b[38;5;241m0\u001b[39m]\u001b[38;5;241m.\u001b[39mto(\u001b[38;5;28mself\u001b[39m\u001b[38;5;241m.\u001b[39mdevice)  \u001b[38;5;66;03m# Input batch, N x C x H x W\u001b[39;00m\n\u001b[1;32m     65\u001b[0m target \u001b[38;5;241m=\u001b[39m batch[\u001b[38;5;241m1\u001b[39m]\u001b[38;5;241m.\u001b[39mto(\u001b[38;5;28mself\u001b[39m\u001b[38;5;241m.\u001b[39mdevice)\n\u001b[1;32m     67\u001b[0m \u001b[38;5;66;03m# Model makes prediction (forward pass)\u001b[39;00m\n",
      "\u001b[0;31mKeyboardInterrupt\u001b[0m: "
     ]
    }
   ],
   "source": [
    "from torch.utils.data import DataLoader\n",
    "\n"
   ]
  },
  {
   "cell_type": "code",
   "execution_count": null,
   "metadata": {},
   "outputs": [
    {
     "ename": "",
     "evalue": "",
     "output_type": "error",
     "traceback": [
      "\u001b[1;31mRunning cells with 'dl (Python 3.10.13)' requires the ipykernel package.\n",
      "\u001b[1;31mRun the following command to install 'ipykernel' into the Python environment. \n",
      "\u001b[1;31mCommand: 'conda install -n dl ipykernel --update-deps --force-reinstall'"
     ]
    }
   ],
   "source": [
    "# Save and load model. Saving and loading not part of the class because it makes pickling unreliable\n",
    "\n",
    "\n",
    "def save(model: nn.Module, path, file_name):\n",
    "    print(f\"Saving the model to '{path}' folder\")\n",
    "    model.cpu()  # First move the model back to the CPU. Note it is no longer on the GPU, so no CUDA!\n",
    "    os.makedirs(path, exist_ok=True)\n",
    "    model_path = os.path.join(\n",
    "        path, file_name + \".pt\"\n",
    "    )  # File ending .pt for 'PyTorch' model\n",
    "    torch.save(model, model_path)\n",
    "    print(next(model.parameters()).is_cuda)\n",
    "    model.to(device)  # Move model back to main device\n",
    "    return model_path\n",
    "\n",
    "\n",
    "def load(path):\n",
    "    model: nn.Module = torch.load(path)\n",
    "    model.eval()\n",
    "    print(f\"Loading the model at '{path}'\")\n",
    "    return model"
   ]
  },
  {
   "cell_type": "code",
   "execution_count": null,
   "metadata": {},
   "outputs": [
    {
     "ename": "",
     "evalue": "",
     "output_type": "error",
     "traceback": [
      "\u001b[1;31mRunning cells with 'dl (Python 3.10.13)' requires the ipykernel package.\n",
      "\u001b[1;31mRun the following command to install 'ipykernel' into the Python environment. \n",
      "\u001b[1;31mCommand: 'conda install -n dl ipykernel --update-deps --force-reinstall'"
     ]
    }
   ],
   "source": [
    "# If you don't want to redo training the model, you can simply load a model here and run the rest of the script\n",
    "save(model, path=\"models\", file_name=\"segmentation_unet\")\n",
    "\n",
    "# model = load(\"models/segmentation_unet.pt\")"
   ]
  },
  {
   "cell_type": "code",
   "execution_count": null,
   "metadata": {},
   "outputs": [
    {
     "ename": "",
     "evalue": "",
     "output_type": "error",
     "traceback": [
      "\u001b[1;31mRunning cells with 'dl (Python 3.10.13)' requires the ipykernel package.\n",
      "\u001b[1;31mRun the following command to install 'ipykernel' into the Python environment. \n",
      "\u001b[1;31mCommand: 'conda install -n dl ipykernel --update-deps --force-reinstall'"
     ]
    }
   ],
   "source": [
    "def visualizer(model, device, test_data):\n",
    "    n = len(test_data)\n",
    "    plt.figure(figsize=(20, 6 * n))\n",
    "\n",
    "    for i, (img, target) in enumerate(test_data):\n",
    "        # Colored input image\n",
    "        plt.subplot(n, 3, i * 3 + 1)\n",
    "        plt.imshow(img.numpy().transpose(1, 2, 0))\n",
    "        plt.axis(\"off\")\n",
    "        if i == 0:\n",
    "            plt.title(\"Input image\")\n",
    "\n",
    "        # Prediction\n",
    "        inputs = img.unsqueeze(0)\n",
    "        # inputs = inputs.to(device)\n",
    "        outputs = model.forward(inputs)\n",
    "        _, pred = torch.max(outputs, dim=1)\n",
    "        plt.subplot(n, 3, i * 3 + 2)\n",
    "        plt.imshow(pred.numpy().squeeze())\n",
    "        plt.axis(\"off\")\n",
    "        if i == 0:\n",
    "            plt.title(\"Prediction (IDs)\")\n",
    "\n",
    "        # Ground truth\n",
    "        plt.subplot(n, 3, i * 3 + 3)\n",
    "        plt.imshow(target[0].squeeze())\n",
    "        plt.axis(\"off\")\n",
    "        if i == 0:\n",
    "            plt.title(\"Ground Truth (IDs)\")"
   ]
  },
  {
   "cell_type": "code",
   "execution_count": null,
   "metadata": {},
   "outputs": [
    {
     "ename": "",
     "evalue": "",
     "output_type": "error",
     "traceback": [
      "\u001b[1;31mRunning cells with 'dl (Python 3.10.13)' requires the ipykernel package.\n",
      "\u001b[1;31mRun the following command to install 'ipykernel' into the Python environment. \n",
      "\u001b[1;31mCommand: 'conda install -n dl ipykernel --update-deps --force-reinstall'"
     ]
    }
   ],
   "source": [
    "# To be able to visualize the models output with matplotlib, we must load the model back onto the CPU.\n",
    "# The print statement should say false (TODO: make another helper function)\n",
    "\n",
    "model.cpu()\n",
    "print(next(model.parameters()).is_cuda)\n",
    "\n",
    "num_example_imgs = 4\n",
    "visualizer(model, device, train_dataset[6 : 6 + num_example_imgs])\n",
    "\n",
    "model.to(device)"
   ]
  },
  {
   "cell_type": "code",
   "execution_count": null,
   "metadata": {},
   "outputs": [
    {
     "ename": "",
     "evalue": "",
     "output_type": "error",
     "traceback": [
      "\u001b[1;31mRunning cells with 'dl (Python 3.10.13)' requires the ipykernel package.\n",
      "\u001b[1;31mRun the following command to install 'ipykernel' into the Python environment. \n",
      "\u001b[1;31mCommand: 'conda install -n dl ipykernel --update-deps --force-reinstall'"
     ]
    }
   ],
   "source": [
    "# TODO: calculate how many of the pixels were correctly labeled"
   ]
  }
 ],
 "metadata": {
  "kernelspec": {
   "display_name": "pytorch_dl",
   "language": "python",
   "name": "python3"
  },
  "language_info": {
   "codemirror_mode": {
    "name": "ipython",
    "version": 3
   },
   "file_extension": ".py",
   "mimetype": "text/x-python",
   "name": "python",
   "nbconvert_exporter": "python",
   "pygments_lexer": "ipython3",
   "version": "3.1.-1"
  },
  "orig_nbformat": 4
 },
 "nbformat": 4,
 "nbformat_minor": 2
}
